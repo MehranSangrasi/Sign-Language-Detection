{
  "cells": [
    {
      "cell_type": "markdown",
      "metadata": {
        "id": "lFEY4hkThYI3"
      },
      "source": [
        "#**Importing the Required Libraries**"
      ]
    },
    {
      "cell_type": "code",
      "execution_count": 1,
      "metadata": {
        "id": "s-a3GfdZhY0t"
      },
      "outputs": [],
      "source": [
        "import os\n"
      ]
    },
    {
      "cell_type": "code",
      "execution_count": 2,
      "metadata": {
        "id": "nUOE-xPSrNS-"
      },
      "outputs": [],
      "source": [
        "import glob"
      ]
    },
    {
      "cell_type": "code",
      "execution_count": 3,
      "metadata": {
        "id": "wVtKZErHrRK6"
      },
      "outputs": [],
      "source": [
        "from IPython.display import Image, display"
      ]
    },
    {
      "cell_type": "code",
      "execution_count": 4,
      "metadata": {
        "id": "V_iw7KpMi-P9"
      },
      "outputs": [],
      "source": [
        "from IPython import display"
      ]
    },
    {
      "cell_type": "code",
      "execution_count": 5,
      "metadata": {
        "id": "kUSVO1Gxi_OZ"
      },
      "outputs": [],
      "source": [
        "display.clear_output()"
      ]
    },
    {
      "cell_type": "markdown",
      "metadata": {
        "id": "UonIzaF8hBFJ"
      },
      "source": [
        "# **In the First Step, We need to check whether we have access to the GPU or not**"
      ]
    },
    {
      "cell_type": "code",
      "execution_count": 6,
      "metadata": {
        "colab": {
          "base_uri": "https://localhost:8080/"
        },
        "id": "ixCtMpfygusf",
        "outputId": "529625ff-833f-46be-ea95-90539c8e8441"
      },
      "outputs": [
        {
          "name": "stderr",
          "output_type": "stream",
          "text": [
            "'nvidia-smi' is not recognized as an internal or external command,\n",
            "operable program or batch file.\n"
          ]
        }
      ],
      "source": [
        "!nvidia-smi"
      ]
    },
    {
      "cell_type": "code",
      "execution_count": 7,
      "metadata": {
        "id": "x-vOupV4hVAt"
      },
      "outputs": [],
      "source": [
        "HOME = os.getcwd()"
      ]
    },
    {
      "cell_type": "code",
      "execution_count": 8,
      "metadata": {
        "colab": {
          "base_uri": "https://localhost:8080/"
        },
        "id": "a4bsm1tIhiJz",
        "outputId": "47665c63-310f-496e-ddcf-a75137412042"
      },
      "outputs": [
        {
          "name": "stdout",
          "output_type": "stream",
          "text": [
            "c:\\Users\\Saim\\Documents\\GitHub\\Sign-Language-Detection\n"
          ]
        }
      ],
      "source": [
        "print(HOME)"
      ]
    },
    {
      "cell_type": "markdown",
      "metadata": {
        "id": "FdgrpCXehuFH"
      },
      "source": [
        "#**Installing Ultralytics using Pip Install**"
      ]
    },
    {
      "cell_type": "code",
      "execution_count": 9,
      "metadata": {
        "colab": {
          "base_uri": "https://localhost:8080/"
        },
        "id": "zX_KHEfold1G",
        "outputId": "3f463f9d-1d9c-4a1d-d8a4-6abd6c0e09d7"
      },
      "outputs": [
        {
          "name": "stdout",
          "output_type": "stream",
          "text": [
            "Defaulting to user installation because normal site-packages is not writeable\n",
            "Requirement already satisfied: ultralytics in c:\\users\\saim\\appdata\\roaming\\python\\python311\\site-packages (8.0.227)\n",
            "Requirement already satisfied: matplotlib>=3.3.0 in c:\\users\\saim\\appdata\\roaming\\python\\python311\\site-packages (from ultralytics) (3.8.2)\n",
            "Requirement already satisfied: numpy>=1.22.2 in c:\\users\\saim\\appdata\\roaming\\python\\python311\\site-packages (from ultralytics) (1.26.2)\n",
            "Requirement already satisfied: opencv-python>=4.6.0 in c:\\users\\saim\\appdata\\roaming\\python\\python311\\site-packages (from ultralytics) (4.8.1.78)\n",
            "Requirement already satisfied: pillow>=7.1.2 in c:\\users\\saim\\appdata\\roaming\\python\\python311\\site-packages (from ultralytics) (10.1.0)\n",
            "Requirement already satisfied: pyyaml>=5.3.1 in c:\\users\\saim\\appdata\\roaming\\python\\python311\\site-packages (from ultralytics) (6.0.1)\n",
            "Requirement already satisfied: requests>=2.23.0 in c:\\users\\saim\\appdata\\roaming\\python\\python311\\site-packages (from ultralytics) (2.31.0)\n",
            "Requirement already satisfied: scipy>=1.4.1 in c:\\users\\saim\\appdata\\roaming\\python\\python311\\site-packages (from ultralytics) (1.11.4)\n",
            "Requirement already satisfied: torch>=1.8.0 in c:\\users\\saim\\appdata\\roaming\\python\\python311\\site-packages (from ultralytics) (2.1.2)\n",
            "Requirement already satisfied: torchvision>=0.9.0 in c:\\users\\saim\\appdata\\roaming\\python\\python311\\site-packages (from ultralytics) (0.16.2)\n",
            "Requirement already satisfied: tqdm>=4.64.0 in c:\\users\\saim\\appdata\\roaming\\python\\python311\\site-packages (from ultralytics) (4.66.1)\n",
            "Requirement already satisfied: pandas>=1.1.4 in c:\\users\\saim\\appdata\\roaming\\python\\python311\\site-packages (from ultralytics) (2.1.4)\n",
            "Requirement already satisfied: seaborn>=0.11.0 in c:\\users\\saim\\appdata\\roaming\\python\\python311\\site-packages (from ultralytics) (0.13.0)\n",
            "Requirement already satisfied: psutil in c:\\users\\saim\\appdata\\roaming\\python\\python311\\site-packages (from ultralytics) (5.9.6)\n",
            "Requirement already satisfied: py-cpuinfo in c:\\users\\saim\\appdata\\roaming\\python\\python311\\site-packages (from ultralytics) (9.0.0)\n",
            "Requirement already satisfied: thop>=0.1.1 in c:\\users\\saim\\appdata\\roaming\\python\\python311\\site-packages (from ultralytics) (0.1.1.post2209072238)\n",
            "Requirement already satisfied: contourpy>=1.0.1 in c:\\users\\saim\\appdata\\roaming\\python\\python311\\site-packages (from matplotlib>=3.3.0->ultralytics) (1.2.0)\n",
            "Requirement already satisfied: cycler>=0.10 in c:\\users\\saim\\appdata\\roaming\\python\\python311\\site-packages (from matplotlib>=3.3.0->ultralytics) (0.12.1)\n",
            "Requirement already satisfied: fonttools>=4.22.0 in c:\\users\\saim\\appdata\\roaming\\python\\python311\\site-packages (from matplotlib>=3.3.0->ultralytics) (4.46.0)\n",
            "Requirement already satisfied: kiwisolver>=1.3.1 in c:\\users\\saim\\appdata\\roaming\\python\\python311\\site-packages (from matplotlib>=3.3.0->ultralytics) (1.4.5)\n",
            "Requirement already satisfied: packaging>=20.0 in c:\\users\\saim\\appdata\\roaming\\python\\python311\\site-packages (from matplotlib>=3.3.0->ultralytics) (23.2)\n",
            "Requirement already satisfied: pyparsing>=2.3.1 in c:\\users\\saim\\appdata\\roaming\\python\\python311\\site-packages (from matplotlib>=3.3.0->ultralytics) (3.1.1)\n",
            "Requirement already satisfied: python-dateutil>=2.7 in c:\\users\\saim\\appdata\\roaming\\python\\python311\\site-packages (from matplotlib>=3.3.0->ultralytics) (2.8.2)\n",
            "Requirement already satisfied: pytz>=2020.1 in c:\\users\\saim\\appdata\\roaming\\python\\python311\\site-packages (from pandas>=1.1.4->ultralytics) (2023.3.post1)\n",
            "Requirement already satisfied: tzdata>=2022.1 in c:\\users\\saim\\appdata\\roaming\\python\\python311\\site-packages (from pandas>=1.1.4->ultralytics) (2023.3)\n",
            "Requirement already satisfied: charset-normalizer<4,>=2 in c:\\users\\saim\\appdata\\roaming\\python\\python311\\site-packages (from requests>=2.23.0->ultralytics) (3.3.2)\n",
            "Requirement already satisfied: idna<4,>=2.5 in c:\\users\\saim\\appdata\\roaming\\python\\python311\\site-packages (from requests>=2.23.0->ultralytics) (3.6)\n",
            "Requirement already satisfied: urllib3<3,>=1.21.1 in c:\\users\\saim\\appdata\\roaming\\python\\python311\\site-packages (from requests>=2.23.0->ultralytics) (2.1.0)\n",
            "Requirement already satisfied: certifi>=2017.4.17 in c:\\users\\saim\\appdata\\roaming\\python\\python311\\site-packages (from requests>=2.23.0->ultralytics) (2023.11.17)\n",
            "Requirement already satisfied: filelock in c:\\users\\saim\\appdata\\roaming\\python\\python311\\site-packages (from torch>=1.8.0->ultralytics) (3.13.1)\n",
            "Requirement already satisfied: typing-extensions in c:\\users\\saim\\appdata\\roaming\\python\\python311\\site-packages (from torch>=1.8.0->ultralytics) (4.9.0)\n",
            "Requirement already satisfied: sympy in c:\\users\\saim\\appdata\\roaming\\python\\python311\\site-packages (from torch>=1.8.0->ultralytics) (1.12)\n",
            "Requirement already satisfied: networkx in c:\\users\\saim\\appdata\\roaming\\python\\python311\\site-packages (from torch>=1.8.0->ultralytics) (3.2.1)\n",
            "Requirement already satisfied: jinja2 in c:\\users\\saim\\appdata\\roaming\\python\\python311\\site-packages (from torch>=1.8.0->ultralytics) (3.1.2)\n",
            "Requirement already satisfied: fsspec in c:\\users\\saim\\appdata\\roaming\\python\\python311\\site-packages (from torch>=1.8.0->ultralytics) (2023.12.2)\n",
            "Requirement already satisfied: colorama in c:\\users\\saim\\appdata\\roaming\\python\\python311\\site-packages (from tqdm>=4.64.0->ultralytics) (0.4.6)\n",
            "Requirement already satisfied: six>=1.5 in c:\\users\\saim\\appdata\\roaming\\python\\python311\\site-packages (from python-dateutil>=2.7->matplotlib>=3.3.0->ultralytics) (1.16.0)\n",
            "Requirement already satisfied: MarkupSafe>=2.0 in c:\\users\\saim\\appdata\\roaming\\python\\python311\\site-packages (from jinja2->torch>=1.8.0->ultralytics) (2.1.3)\n",
            "Requirement already satisfied: mpmath>=0.19 in c:\\users\\saim\\appdata\\roaming\\python\\python311\\site-packages (from sympy->torch>=1.8.0->ultralytics) (1.3.0)\n"
          ]
        },
        {
          "name": "stderr",
          "output_type": "stream",
          "text": [
            "\n",
            "[notice] A new release of pip is available: 23.2.1 -> 23.3.1\n",
            "[notice] To update, run: python.exe -m pip install --upgrade pip\n"
          ]
        }
      ],
      "source": [
        "!pip install ultralytics"
      ]
    },
    {
      "cell_type": "markdown",
      "metadata": {
        "id": "d69BqnLhivMS"
      },
      "source": [
        "##Checking whether YOLOv8 is Installed and its working Fine"
      ]
    },
    {
      "cell_type": "code",
      "execution_count": 10,
      "metadata": {
        "id": "WBdEq_9WinBg"
      },
      "outputs": [],
      "source": [
        "import ultralytics"
      ]
    },
    {
      "cell_type": "code",
      "execution_count": 11,
      "metadata": {
        "colab": {
          "base_uri": "https://localhost:8080/"
        },
        "id": "EWrOSmH6i2mW",
        "outputId": "2eefd11b-70aa-4450-f6c9-cfda1c4b458a"
      },
      "outputs": [
        {
          "name": "stdout",
          "output_type": "stream",
          "text": [
            "Ultralytics YOLOv8.0.227 🚀 Python-3.11.6 torch-2.1.2+cpu CPU (12th Gen Intel Core(TM) i5-1235U)\n",
            "Setup complete ✅ (12 CPUs, 7.7 GB RAM, 226.4/237.6 GB disk)\n"
          ]
        }
      ],
      "source": [
        "ultralytics.checks()"
      ]
    },
    {
      "cell_type": "markdown",
      "metadata": {
        "id": "TLCNeMc6jNa-"
      },
      "source": [
        "#**Importing the American Sign Language Alphabets Dataset from Roboflow**"
      ]
    },
    {
      "cell_type": "code",
      "execution_count": null,
      "metadata": {
        "colab": {
          "base_uri": "https://localhost:8080/"
        },
        "id": "8CElZj-vi6Mj",
        "outputId": "93c02755-2c9f-4c10-987f-0b4ad3441e17"
      },
      "outputs": [],
      "source": [
        "!mkdir {HOME}\\\\datasets\n",
        "%cd {HOME}\\\\datasets\n",
        "\n",
        "%pip install roboflow\n",
        "\n",
        "from roboflow import Roboflow\n",
        "rf = Roboflow(api_key=\"ds2uxDxQx48AI3lrbTqU\")\n",
        "project = rf.workspace(\"python-84el0\").project(\"asl-2aeyz\")\n",
        "dataset = project.version(1).download(\"yolov8\")\n"
      ]
    },
    {
      "cell_type": "markdown",
      "metadata": {
        "id": "65k1QMPwjt63"
      },
      "source": [
        "#**Train the YOLOv8 Model on the Custom Dataset**"
      ]
    },
    {
      "cell_type": "code",
      "execution_count": 20,
      "metadata": {
        "colab": {
          "base_uri": "https://localhost:8080/"
        },
        "id": "rcZyNfEnjpGz",
        "outputId": "b04e2659-44bf-4f0a-8258-f4f4e3db311a"
      },
      "outputs": [
        {
          "name": "stdout",
          "output_type": "stream",
          "text": [
            "c:\\Users\\Saim\\Documents\\GitHub\\Sign-Language-Detection\n"
          ]
        }
      ],
      "source": [
        "%cd {HOME}"
      ]
    },
    {
      "cell_type": "code",
      "execution_count": null,
      "metadata": {
        "colab": {
          "base_uri": "https://localhost:8080/"
        },
        "id": "mbBeu_eFj4J3",
        "outputId": "5677d181-fc77-4854-dca7-a8d822dfbe06"
      },
      "outputs": [
        {
          "name": "stdout",
          "output_type": "stream",
          "text": [
            "/content/datasets/American-Sign-Language-Letters-6\n"
          ]
        }
      ],
      "source": [
        "%cd {dataset.location}"
      ]
    },
    {
      "cell_type": "code",
      "execution_count": null,
      "metadata": {
        "colab": {
          "base_uri": "https://localhost:8080/"
        },
        "id": "SA3S___qj88u",
        "outputId": "37299328-0363-4d0c-f809-7f178a8bddf3"
      },
      "outputs": [],
      "source": [
        "%cd {HOME}\n",
        "\n",
        "dataset_location = \"C:\\\\Users\\\\Saim\\\\Documents\\\\GitHub\\\\Sign-Language-Detection\\\\datasets\\\\American-Sign-Language-Letters-6\"\n",
        "\n",
        "!yolo task=detect mode=train model=yolov8l.pt data=\"{dataset_location}\\\\data.yaml\" epochs=50 imgsz=800"
      ]
    },
    {
      "cell_type": "code",
      "execution_count": null,
      "metadata": {
        "colab": {
          "base_uri": "https://localhost:8080/"
        },
        "id": "VIdYdhQjT1pR",
        "outputId": "24bf46f5-0fab-4028-c824-02cf1f90a686"
      },
      "outputs": [
        {
          "name": "stdout",
          "output_type": "stream",
          "text": [
            "args.yaml  weights\n"
          ]
        }
      ],
      "source": [
        "!ls {HOME}/runs/detect/train/"
      ]
    },
    {
      "cell_type": "markdown",
      "metadata": {
        "id": "dRT8XUB2T-rs"
      },
      "source": [
        "#**Displaying the Confusion Matrix**"
      ]
    },
    {
      "cell_type": "code",
      "execution_count": null,
      "metadata": {
        "colab": {
          "base_uri": "https://localhost:8080/",
          "height": 355
        },
        "id": "i8rzAG4LUDuB",
        "outputId": "73a67101-562c-4b4c-dde7-aaec163d4c99"
      },
      "outputs": [],
      "source": [
        "%cd {HOME}\n",
        "Image(filename=f'{HOME}/runs/detect/train/confusion_matrix.png', width=900)"
      ]
    },
    {
      "cell_type": "markdown",
      "metadata": {
        "id": "PZT7Yj__UPQl"
      },
      "source": [
        "#**Training and Validation Loss**"
      ]
    },
    {
      "cell_type": "code",
      "execution_count": null,
      "metadata": {
        "id": "guhGMMJxUPak"
      },
      "outputs": [],
      "source": [
        "%cd {HOME}\n",
        "Image(filename=f'{HOME}/runs/detect/train/results.png', width=600)"
      ]
    },
    {
      "cell_type": "code",
      "execution_count": null,
      "metadata": {
        "id": "T1QPiDrRUaFt"
      },
      "outputs": [],
      "source": [
        "%cd {HOME}\n",
        "Image(filename=f'{HOME}/runs/detect/train/val_batch0_pred.jpg', width=600)"
      ]
    },
    {
      "cell_type": "markdown",
      "metadata": {
        "id": "iIzpjss8p242"
      },
      "source": [
        "#**Validate Custom Model**"
      ]
    },
    {
      "cell_type": "code",
      "execution_count": null,
      "metadata": {
        "id": "ksNb0J6akcKT"
      },
      "outputs": [],
      "source": [
        "%cd {HOME}\n",
        "\n",
        "!yolo task=detect mode=val model={HOME}/runs/best.pt data={dataset.location}/data.yaml"
      ]
    },
    {
      "cell_type": "markdown",
      "metadata": {
        "id": "lNwT90FUquDP"
      },
      "source": [
        "#**Inference with Custom Model**"
      ]
    },
    {
      "cell_type": "code",
      "execution_count": null,
      "metadata": {
        "id": "hHh4joWOqeIg"
      },
      "outputs": [],
      "source": [
        "%cd {HOME}\n",
        "!yolo task=detect mode=predict model={HOME}/runs/best.pt conf=0.25 source={dataset.location}/test/images"
      ]
    },
    {
      "cell_type": "code",
      "execution_count": null,
      "metadata": {
        "id": "HBeWcTQiq7_k"
      },
      "outputs": [],
      "source": [
        "for image_path in glob.glob(f'{HOME}/runs/detect/predict/*.jpg')[:3]:\n",
        "      display(Image(filename=image_path, width=600))\n",
        "      print(\"\\n\")"
      ]
    },
    {
      "cell_type": "markdown",
      "metadata": {
        "id": "Fq2qoyOQtZOH"
      },
      "source": [
        "#**Testing on a Demo Video**"
      ]
    },
    {
      "cell_type": "code",
      "execution_count": null,
      "metadata": {
        "id": "MwvKhrGlrLc4"
      },
      "outputs": [],
      "source": [
        "%cd {HOME}\n",
        "!yolo task=detect mode=predict model={HOME}/runs/best.pt conf=0.25 source='/content/demovideo/testvideo1.mp4'"
      ]
    },
    {
      "cell_type": "markdown",
      "metadata": {
        "id": "-nzzls6Mwo8U"
      },
      "source": [
        "#**Display the Demo Video**"
      ]
    },
    {
      "cell_type": "code",
      "execution_count": null,
      "metadata": {
        "id": "x8vsM8ZztfOG"
      },
      "outputs": [],
      "source": [
        "!rm \"/content/result_compressed.mp4\""
      ]
    },
    {
      "cell_type": "code",
      "execution_count": null,
      "metadata": {
        "id": "Ep7iJPcKwuCx"
      },
      "outputs": [],
      "source": [
        "from IPython.display import HTML\n",
        "from base64 import b64encode\n",
        "import os\n",
        "\n",
        "# Input video path\n",
        "save_path = '/content/runs/detect/predict2/testvideo1.mp4'\n",
        "\n",
        "# Compressed video path\n",
        "compressed_path = \"/content/result_compressed.mp4\"\n",
        "\n",
        "os.system(f\"ffmpeg -i {save_path} -vcodec libx264 {compressed_path}\")\n",
        "\n",
        "# Show video\n",
        "mp4 = open(compressed_path,'rb').read()\n",
        "data_url = \"data:video/mp4;base64,\" + b64encode(mp4).decode()\n",
        "HTML(\"\"\"\n",
        "<video width=400 controls>\n",
        "      <source src=\"%s\" type=\"video/mp4\">\n",
        "</video>\n",
        "\"\"\" % data_url)"
      ]
    },
    {
      "cell_type": "code",
      "execution_count": null,
      "metadata": {
        "id": "9SO2P2QLwyP4"
      },
      "outputs": [],
      "source": []
    }
  ],
  "metadata": {
    "accelerator": "GPU",
    "colab": {
      "gpuType": "T4",
      "provenance": []
    },
    "kernelspec": {
      "display_name": "Python 3",
      "name": "python3"
    },
    "language_info": {
      "codemirror_mode": {
        "name": "ipython",
        "version": 3
      },
      "file_extension": ".py",
      "mimetype": "text/x-python",
      "name": "python",
      "nbconvert_exporter": "python",
      "pygments_lexer": "ipython3",
      "version": "3.11.6"
    }
  },
  "nbformat": 4,
  "nbformat_minor": 0
}
