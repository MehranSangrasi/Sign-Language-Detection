{
 "cells": [
  {
   "cell_type": "code",
   "execution_count": 1,
   "metadata": {},
   "outputs": [],
   "source": [
    "import tensorflow as tf\n",
    "from tensorflow.keras.layers import Conv2D, Concatenate, BatchNormalization, Activation,UpSampling2D, GlobalAveragePooling2D, Dense, Reshape, AveragePooling2D\n",
    "import cv2\n",
    "import numpy as np\n",
    "\n",
    "from matplotlib import pyplot as plt\n",
    "import random\n",
    "\n",
    "import os"
   ]
  },
  {
   "cell_type": "code",
   "execution_count": 3,
   "metadata": {},
   "outputs": [],
   "source": [
    "import cv2\n",
    "import numpy as np\n",
    "import tensorflow as tf\n",
    "from tensorflow.keras.models import load_model\n",
    "\n",
    "# Define the custom metric class\n",
    "class MyMeanIOU(tf.keras.metrics.MeanIoU):\n",
    "    def update_state(self, y_true, y_pred, sample_weight=None):\n",
    "        return super().update_state(y_true, tf.where(y_pred > 0.5, 1, 0), sample_weight)\n",
    "\n",
    "# Register the custom metric class\n",
    "custom_objects = {'MyMeanIOU': MyMeanIOU}\n",
    "\n",
    "# Load the segmentation model\n",
    "model = load_model('best.h5', custom_objects=custom_objects)\n",
    "\n",
    "# Open a connection to the camera (you may need to change the index)\n",
    "cap = cv2.VideoCapture(0)\n",
    "\n",
    "while True:\n",
    "    ret, frame = cap.read()\n",
    "    if not ret:\n",
    "        print(\"Error reading frame\")\n",
    "        break\n",
    "\n",
    "    # Resize the frame to match the input size of the model\n",
    "    input_size = (model.input_shape[1], model.input_shape[2])\n",
    "    resized_frame = cv2.resize(frame, input_size)\n",
    "\n",
    "    # Preprocess the frame for the model\n",
    "    input_data = np.expand_dims(resized_frame, axis=0) / 255.0\n",
    "\n",
    "    # Perform segmentation\n",
    "    segmentation_map = model.predict(input_data)[0, :, :, 0]\n",
    "\n",
    "    # Apply a threshold to create a binary mask\n",
    "    mask = (segmentation_map > 0.5).astype(np.uint8)\n",
    "\n",
    "    # Apply the mask to the original frame\n",
    "    segmented_frame = cv2.bitwise_and(frame, frame, mask=mask)\n",
    "\n",
    "    # Display the original frame and segmented frame\n",
    "    cv2.imshow('Original', frame)\n",
    "    cv2.imshow('Segmented', segmented_frame)\n",
    "\n",
    "    # Break the loop if 'q' is pressed\n",
    "    if cv2.waitKey(1) & 0xFF == ord('q'):\n",
    "        break\n",
    "\n",
    "# Release the camera and close all windows\n",
    "cap.release()\n",
    "cv2.destroyAllWindows()\n"
   ]
  },
  {
   "cell_type": "code",
   "execution_count": null,
   "metadata": {},
   "outputs": [],
   "source": []
  }
 ],
 "metadata": {
  "kernelspec": {
   "display_name": "Python 3",
   "language": "python",
   "name": "python3"
  },
  "language_info": {
   "codemirror_mode": {
    "name": "ipython",
    "version": 3
   },
   "file_extension": ".py",
   "mimetype": "text/x-python",
   "name": "python",
   "nbconvert_exporter": "python",
   "pygments_lexer": "ipython3",
   "version": "3.11.1"
  }
 },
 "nbformat": 4,
 "nbformat_minor": 2
}
