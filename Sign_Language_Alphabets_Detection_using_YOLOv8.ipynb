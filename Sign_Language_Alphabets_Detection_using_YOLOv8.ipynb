{
  "cells": [
    {
      "cell_type": "markdown",
      "metadata": {
        "id": "lFEY4hkThYI3"
      },
      "source": [
        "#**Importing the Required Libraries**"
      ]
    },
    {
      "cell_type": "code",
      "execution_count": 1,
      "metadata": {
        "id": "s-a3GfdZhY0t"
      },
      "outputs": [],
      "source": [
        "import os\n"
      ]
    },
    {
      "cell_type": "code",
      "execution_count": 2,
      "metadata": {
        "id": "nUOE-xPSrNS-"
      },
      "outputs": [],
      "source": [
        "import glob"
      ]
    },
    {
      "cell_type": "code",
      "execution_count": 3,
      "metadata": {
        "id": "wVtKZErHrRK6"
      },
      "outputs": [],
      "source": [
        "from IPython.display import Image, display"
      ]
    },
    {
      "cell_type": "code",
      "execution_count": 4,
      "metadata": {
        "id": "V_iw7KpMi-P9"
      },
      "outputs": [],
      "source": [
        "from IPython import display"
      ]
    },
    {
      "cell_type": "code",
      "execution_count": 5,
      "metadata": {
        "id": "kUSVO1Gxi_OZ"
      },
      "outputs": [],
      "source": [
        "display.clear_output()"
      ]
    },
    {
      "cell_type": "markdown",
      "metadata": {
        "id": "UonIzaF8hBFJ"
      },
      "source": [
        "# **In the First Step, We need to check whether we have access to the GPU or not**"
      ]
    },
    {
      "cell_type": "code",
      "execution_count": 6,
      "metadata": {
        "colab": {
          "base_uri": "https://localhost:8080/"
        },
        "id": "ixCtMpfygusf",
        "outputId": "529625ff-833f-46be-ea95-90539c8e8441"
      },
      "outputs": [
        {
          "name": "stderr",
          "output_type": "stream",
          "text": [
            "'nvidia-smi' is not recognized as an internal or external command,\n",
            "operable program or batch file.\n"
          ]
        }
      ],
      "source": [
        "!nvidia-smi"
      ]
    },
    {
      "cell_type": "code",
      "execution_count": 7,
      "metadata": {
        "id": "x-vOupV4hVAt"
      },
      "outputs": [],
      "source": [
        "HOME = os.getcwd()"
      ]
    },
    {
      "cell_type": "code",
      "execution_count": 8,
      "metadata": {
        "colab": {
          "base_uri": "https://localhost:8080/"
        },
        "id": "a4bsm1tIhiJz",
        "outputId": "47665c63-310f-496e-ddcf-a75137412042"
      },
      "outputs": [
        {
          "name": "stdout",
          "output_type": "stream",
          "text": [
            "c:\\Users\\Saim\\Documents\\GitHub\\Sign-Language-Detection\n"
          ]
        }
      ],
      "source": [
        "print(HOME)"
      ]
    },
    {
      "cell_type": "markdown",
      "metadata": {
        "id": "FdgrpCXehuFH"
      },
      "source": [
        "#**Installing Ultralytics using Pip Install**"
      ]
    },
    {
      "cell_type": "code",
      "execution_count": 9,
      "metadata": {
        "colab": {
          "base_uri": "https://localhost:8080/"
        },
        "id": "zX_KHEfold1G",
        "outputId": "3f463f9d-1d9c-4a1d-d8a4-6abd6c0e09d7"
      },
      "outputs": [
        {
          "name": "stdout",
          "output_type": "stream",
          "text": [
            "Defaulting to user installation because normal site-packages is not writeable\n",
            "Requirement already satisfied: ultralytics in c:\\users\\saim\\appdata\\roaming\\python\\python311\\site-packages (8.0.227)\n",
            "Requirement already satisfied: matplotlib>=3.3.0 in c:\\users\\saim\\appdata\\roaming\\python\\python311\\site-packages (from ultralytics) (3.8.2)\n",
            "Requirement already satisfied: numpy>=1.22.2 in c:\\users\\saim\\appdata\\roaming\\python\\python311\\site-packages (from ultralytics) (1.26.2)\n",
            "Requirement already satisfied: opencv-python>=4.6.0 in c:\\users\\saim\\appdata\\roaming\\python\\python311\\site-packages (from ultralytics) (4.8.1.78)\n",
            "Requirement already satisfied: pillow>=7.1.2 in c:\\users\\saim\\appdata\\roaming\\python\\python311\\site-packages (from ultralytics) (10.1.0)\n",
            "Requirement already satisfied: pyyaml>=5.3.1 in c:\\users\\saim\\appdata\\roaming\\python\\python311\\site-packages (from ultralytics) (6.0.1)\n",
            "Requirement already satisfied: requests>=2.23.0 in c:\\users\\saim\\appdata\\roaming\\python\\python311\\site-packages (from ultralytics) (2.31.0)\n",
            "Requirement already satisfied: scipy>=1.4.1 in c:\\users\\saim\\appdata\\roaming\\python\\python311\\site-packages (from ultralytics) (1.11.4)\n",
            "Requirement already satisfied: torch>=1.8.0 in c:\\users\\saim\\appdata\\roaming\\python\\python311\\site-packages (from ultralytics) (2.1.2)\n",
            "Requirement already satisfied: torchvision>=0.9.0 in c:\\users\\saim\\appdata\\roaming\\python\\python311\\site-packages (from ultralytics) (0.16.2)\n",
            "Requirement already satisfied: tqdm>=4.64.0 in c:\\users\\saim\\appdata\\roaming\\python\\python311\\site-packages (from ultralytics) (4.66.1)\n",
            "Requirement already satisfied: pandas>=1.1.4 in c:\\users\\saim\\appdata\\roaming\\python\\python311\\site-packages (from ultralytics) (2.1.4)\n",
            "Requirement already satisfied: seaborn>=0.11.0 in c:\\users\\saim\\appdata\\roaming\\python\\python311\\site-packages (from ultralytics) (0.13.0)\n",
            "Requirement already satisfied: psutil in c:\\users\\saim\\appdata\\roaming\\python\\python311\\site-packages (from ultralytics) (5.9.6)\n",
            "Requirement already satisfied: py-cpuinfo in c:\\users\\saim\\appdata\\roaming\\python\\python311\\site-packages (from ultralytics) (9.0.0)\n",
            "Requirement already satisfied: thop>=0.1.1 in c:\\users\\saim\\appdata\\roaming\\python\\python311\\site-packages (from ultralytics) (0.1.1.post2209072238)\n",
            "Requirement already satisfied: contourpy>=1.0.1 in c:\\users\\saim\\appdata\\roaming\\python\\python311\\site-packages (from matplotlib>=3.3.0->ultralytics) (1.2.0)\n",
            "Requirement already satisfied: cycler>=0.10 in c:\\users\\saim\\appdata\\roaming\\python\\python311\\site-packages (from matplotlib>=3.3.0->ultralytics) (0.12.1)\n",
            "Requirement already satisfied: fonttools>=4.22.0 in c:\\users\\saim\\appdata\\roaming\\python\\python311\\site-packages (from matplotlib>=3.3.0->ultralytics) (4.46.0)\n",
            "Requirement already satisfied: kiwisolver>=1.3.1 in c:\\users\\saim\\appdata\\roaming\\python\\python311\\site-packages (from matplotlib>=3.3.0->ultralytics) (1.4.5)\n",
            "Requirement already satisfied: packaging>=20.0 in c:\\users\\saim\\appdata\\roaming\\python\\python311\\site-packages (from matplotlib>=3.3.0->ultralytics) (23.2)\n",
            "Requirement already satisfied: pyparsing>=2.3.1 in c:\\users\\saim\\appdata\\roaming\\python\\python311\\site-packages (from matplotlib>=3.3.0->ultralytics) (3.1.1)\n",
            "Requirement already satisfied: python-dateutil>=2.7 in c:\\users\\saim\\appdata\\roaming\\python\\python311\\site-packages (from matplotlib>=3.3.0->ultralytics) (2.8.2)\n",
            "Requirement already satisfied: pytz>=2020.1 in c:\\users\\saim\\appdata\\roaming\\python\\python311\\site-packages (from pandas>=1.1.4->ultralytics) (2023.3.post1)\n",
            "Requirement already satisfied: tzdata>=2022.1 in c:\\users\\saim\\appdata\\roaming\\python\\python311\\site-packages (from pandas>=1.1.4->ultralytics) (2023.3)\n",
            "Requirement already satisfied: charset-normalizer<4,>=2 in c:\\users\\saim\\appdata\\roaming\\python\\python311\\site-packages (from requests>=2.23.0->ultralytics) (3.3.2)\n",
            "Requirement already satisfied: idna<4,>=2.5 in c:\\users\\saim\\appdata\\roaming\\python\\python311\\site-packages (from requests>=2.23.0->ultralytics) (3.6)\n",
            "Requirement already satisfied: urllib3<3,>=1.21.1 in c:\\users\\saim\\appdata\\roaming\\python\\python311\\site-packages (from requests>=2.23.0->ultralytics) (2.1.0)\n",
            "Requirement already satisfied: certifi>=2017.4.17 in c:\\users\\saim\\appdata\\roaming\\python\\python311\\site-packages (from requests>=2.23.0->ultralytics) (2023.11.17)\n",
            "Requirement already satisfied: filelock in c:\\users\\saim\\appdata\\roaming\\python\\python311\\site-packages (from torch>=1.8.0->ultralytics) (3.13.1)\n",
            "Requirement already satisfied: typing-extensions in c:\\users\\saim\\appdata\\roaming\\python\\python311\\site-packages (from torch>=1.8.0->ultralytics) (4.9.0)\n",
            "Requirement already satisfied: sympy in c:\\users\\saim\\appdata\\roaming\\python\\python311\\site-packages (from torch>=1.8.0->ultralytics) (1.12)\n",
            "Requirement already satisfied: networkx in c:\\users\\saim\\appdata\\roaming\\python\\python311\\site-packages (from torch>=1.8.0->ultralytics) (3.2.1)\n",
            "Requirement already satisfied: jinja2 in c:\\users\\saim\\appdata\\roaming\\python\\python311\\site-packages (from torch>=1.8.0->ultralytics) (3.1.2)\n",
            "Requirement already satisfied: fsspec in c:\\users\\saim\\appdata\\roaming\\python\\python311\\site-packages (from torch>=1.8.0->ultralytics) (2023.12.2)\n",
            "Requirement already satisfied: colorama in c:\\users\\saim\\appdata\\roaming\\python\\python311\\site-packages (from tqdm>=4.64.0->ultralytics) (0.4.6)\n",
            "Requirement already satisfied: six>=1.5 in c:\\users\\saim\\appdata\\roaming\\python\\python311\\site-packages (from python-dateutil>=2.7->matplotlib>=3.3.0->ultralytics) (1.16.0)\n",
            "Requirement already satisfied: MarkupSafe>=2.0 in c:\\users\\saim\\appdata\\roaming\\python\\python311\\site-packages (from jinja2->torch>=1.8.0->ultralytics) (2.1.3)\n",
            "Requirement already satisfied: mpmath>=0.19 in c:\\users\\saim\\appdata\\roaming\\python\\python311\\site-packages (from sympy->torch>=1.8.0->ultralytics) (1.3.0)\n"
          ]
        },
        {
          "name": "stderr",
          "output_type": "stream",
          "text": [
            "\n",
            "[notice] A new release of pip is available: 23.2.1 -> 23.3.1\n",
            "[notice] To update, run: python.exe -m pip install --upgrade pip\n"
          ]
        }
      ],
      "source": [
        "!pip install ultralytics"
      ]
    },
    {
      "cell_type": "markdown",
      "metadata": {
        "id": "d69BqnLhivMS"
      },
      "source": [
        "##Checking whether YOLOv8 is Installed and its working Fine"
      ]
    },
    {
      "cell_type": "code",
      "execution_count": 10,
      "metadata": {
        "id": "WBdEq_9WinBg"
      },
      "outputs": [],
      "source": [
        "import ultralytics"
      ]
    },
    {
      "cell_type": "code",
      "execution_count": 11,
      "metadata": {
        "colab": {
          "base_uri": "https://localhost:8080/"
        },
        "id": "EWrOSmH6i2mW",
        "outputId": "2eefd11b-70aa-4450-f6c9-cfda1c4b458a"
      },
      "outputs": [
        {
          "name": "stdout",
          "output_type": "stream",
          "text": [
            "Ultralytics YOLOv8.0.227 🚀 Python-3.11.6 torch-2.1.2+cpu CPU (12th Gen Intel Core(TM) i5-1235U)\n",
            "Setup complete ✅ (12 CPUs, 7.7 GB RAM, 226.4/237.6 GB disk)\n"
          ]
        }
      ],
      "source": [
        "ultralytics.checks()"
      ]
    },
    {
      "cell_type": "markdown",
      "metadata": {
        "id": "TLCNeMc6jNa-"
      },
      "source": [
        "#**Importing the American Sign Language Alphabets Dataset from Roboflow**"
      ]
    },
    {
      "cell_type": "code",
      "execution_count": 18,
      "metadata": {
        "colab": {
          "base_uri": "https://localhost:8080/"
        },
        "id": "8CElZj-vi6Mj",
        "outputId": "93c02755-2c9f-4c10-987f-0b4ad3441e17"
      },
      "outputs": [
        {
          "name": "stdout",
          "output_type": "stream",
          "text": [
            "c:\\Users\\Saim\\Documents\\GitHub\\Sign-Language-Detection\\datasets\n"
          ]
        },
        {
          "name": "stderr",
          "output_type": "stream",
          "text": [
            "A subdirectory or file c:\\Users\\Saim\\Documents\\GitHub\\Sign-Language-Detection\\\\datasets already exists.\n",
            "using dhist requires you to install the `pickleshare` library.\n"
          ]
        },
        {
          "name": "stdout",
          "output_type": "stream",
          "text": [
            "Defaulting to user installation because normal site-packages is not writeable\n",
            "Requirement already satisfied: roboflow in c:\\program files\\python311\\lib\\site-packages (1.1.12)\n",
            "Requirement already satisfied: certifi==2023.7.22 in c:\\program files\\python311\\lib\\site-packages (from roboflow) (2023.7.22)\n",
            "Requirement already satisfied: chardet==4.0.0 in c:\\program files\\python311\\lib\\site-packages (from roboflow) (4.0.0)\n",
            "Requirement already satisfied: cycler==0.10.0 in c:\\program files\\python311\\lib\\site-packages (from roboflow) (0.10.0)\n",
            "Requirement already satisfied: idna==2.10 in c:\\program files\\python311\\lib\\site-packages (from roboflow) (2.10)\n",
            "Requirement already satisfied: kiwisolver>=1.3.1 in c:\\users\\saim\\appdata\\roaming\\python\\python311\\site-packages (from roboflow) (1.4.5)\n",
            "Requirement already satisfied: matplotlib in c:\\users\\saim\\appdata\\roaming\\python\\python311\\site-packages (from roboflow) (3.8.2)\n",
            "Requirement already satisfied: numpy>=1.18.5 in c:\\users\\saim\\appdata\\roaming\\python\\python311\\site-packages (from roboflow) (1.26.2)\n",
            "Requirement already satisfied: opencv-python-headless==4.8.0.74 in c:\\program files\\python311\\lib\\site-packages (from roboflow) (4.8.0.74)\n",
            "Requirement already satisfied: Pillow>=7.1.2 in c:\\users\\saim\\appdata\\roaming\\python\\python311\\site-packages (from roboflow) (10.1.0)\n",
            "Requirement already satisfied: pyparsing==2.4.7 in c:\\users\\saim\\appdata\\roaming\\python\\python311\\site-packages (from roboflow) (2.4.7)\n",
            "Requirement already satisfied: python-dateutil in c:\\users\\saim\\appdata\\roaming\\python\\python311\\site-packages (from roboflow) (2.8.2)\n",
            "Requirement already satisfied: python-dotenv in c:\\users\\saim\\appdata\\roaming\\python\\python311\\site-packages (from roboflow) (1.0.0)\n",
            "Requirement already satisfied: requests in c:\\users\\saim\\appdata\\roaming\\python\\python311\\site-packages (from roboflow) (2.31.0)\n",
            "Requirement already satisfied: six in c:\\users\\saim\\appdata\\roaming\\python\\python311\\site-packages (from roboflow) (1.16.0)\n",
            "Requirement already satisfied: supervision in c:\\program files\\python311\\lib\\site-packages (from roboflow) (0.17.1)\n",
            "Requirement already satisfied: urllib3>=1.26.6 in c:\\users\\saim\\appdata\\roaming\\python\\python311\\site-packages (from roboflow) (2.1.0)\n",
            "Requirement already satisfied: tqdm>=4.41.0 in c:\\users\\saim\\appdata\\roaming\\python\\python311\\site-packages (from roboflow) (4.66.1)\n",
            "Requirement already satisfied: PyYAML>=5.3.1 in c:\\users\\saim\\appdata\\roaming\\python\\python311\\site-packages (from roboflow) (6.0.1)\n",
            "Requirement already satisfied: requests-toolbelt in c:\\program files\\python311\\lib\\site-packages (from roboflow) (1.0.0)\n",
            "Requirement already satisfied: python-magic in c:\\users\\saim\\appdata\\roaming\\python\\python311\\site-packages (from roboflow) (0.4.27)\n",
            "Requirement already satisfied: colorama in c:\\users\\saim\\appdata\\roaming\\python\\python311\\site-packages (from tqdm>=4.41.0->roboflow) (0.4.6)\n",
            "Requirement already satisfied: contourpy>=1.0.1 in c:\\users\\saim\\appdata\\roaming\\python\\python311\\site-packages (from matplotlib->roboflow) (1.2.0)\n",
            "Requirement already satisfied: fonttools>=4.22.0 in c:\\users\\saim\\appdata\\roaming\\python\\python311\\site-packages (from matplotlib->roboflow) (4.46.0)\n",
            "Requirement already satisfied: packaging>=20.0 in c:\\users\\saim\\appdata\\roaming\\python\\python311\\site-packages (from matplotlib->roboflow) (23.2)\n",
            "Requirement already satisfied: charset-normalizer<4,>=2 in c:\\users\\saim\\appdata\\roaming\\python\\python311\\site-packages (from requests->roboflow) (3.3.2)\n",
            "Requirement already satisfied: scipy>=1.9.0 in c:\\users\\saim\\appdata\\roaming\\python\\python311\\site-packages (from supervision->roboflow) (1.11.4)\n",
            "Note: you may need to restart the kernel to use updated packages.\n"
          ]
        },
        {
          "name": "stderr",
          "output_type": "stream",
          "text": [
            "\n",
            "[notice] A new release of pip is available: 23.2.1 -> 23.3.1\n",
            "[notice] To update, run: python.exe -m pip install --upgrade pip\n"
          ]
        },
        {
          "ename": "OSError",
          "evalue": "Could not find a suitable TLS CA certificate bundle, invalid path: C:\\Users\\Saim\\AppData\\Roaming\\Python\\Python311\\site-packages\\certifi\\cacert.pem",
          "output_type": "error",
          "traceback": [
            "\u001b[1;31m---------------------------------------------------------------------------\u001b[0m",
            "\u001b[1;31mOSError\u001b[0m                                   Traceback (most recent call last)",
            "Cell \u001b[1;32mIn[18], line 8\u001b[0m\n\u001b[0;32m      4\u001b[0m get_ipython()\u001b[38;5;241m.\u001b[39mrun_line_magic(\u001b[38;5;124m'\u001b[39m\u001b[38;5;124mpip\u001b[39m\u001b[38;5;124m'\u001b[39m, \u001b[38;5;124m'\u001b[39m\u001b[38;5;124minstall roboflow\u001b[39m\u001b[38;5;124m'\u001b[39m)\n\u001b[0;32m      6\u001b[0m \u001b[38;5;28;01mfrom\u001b[39;00m \u001b[38;5;21;01mroboflow\u001b[39;00m \u001b[38;5;28;01mimport\u001b[39;00m Roboflow\n\u001b[1;32m----> 8\u001b[0m rf \u001b[38;5;241m=\u001b[39m \u001b[43mRoboflow\u001b[49m\u001b[43m(\u001b[49m\u001b[43mapi_key\u001b[49m\u001b[38;5;241;43m=\u001b[39;49m\u001b[38;5;124;43m\"\u001b[39;49m\u001b[38;5;124;43mds2uxDxQx48AI3lrbTqU\u001b[39;49m\u001b[38;5;124;43m\"\u001b[39;49m\u001b[43m)\u001b[49m\n\u001b[0;32m      9\u001b[0m project \u001b[38;5;241m=\u001b[39m rf\u001b[38;5;241m.\u001b[39mworkspace(\u001b[38;5;124m\"\u001b[39m\u001b[38;5;124mdavid-lee-d0rhs\u001b[39m\u001b[38;5;124m\"\u001b[39m)\u001b[38;5;241m.\u001b[39mproject(\u001b[38;5;124m\"\u001b[39m\u001b[38;5;124mamerican-sign-language-letters\u001b[39m\u001b[38;5;124m\"\u001b[39m)\n\u001b[0;32m     10\u001b[0m dataset \u001b[38;5;241m=\u001b[39m project\u001b[38;5;241m.\u001b[39mversion(\u001b[38;5;241m6\u001b[39m)\u001b[38;5;241m.\u001b[39mdownload(\u001b[38;5;124m\"\u001b[39m\u001b[38;5;124myolov8\u001b[39m\u001b[38;5;124m\"\u001b[39m)\n",
            "File \u001b[1;32mc:\\Program Files\\Python311\\Lib\\site-packages\\roboflow\\__init__.py:252\u001b[0m, in \u001b[0;36mRoboflow.__init__\u001b[1;34m(self, api_key, model_format, notebook)\u001b[0m\n\u001b[0;32m    250\u001b[0m \u001b[38;5;28mself\u001b[39m\u001b[38;5;241m.\u001b[39mnotebook \u001b[38;5;241m=\u001b[39m notebook\n\u001b[0;32m    251\u001b[0m \u001b[38;5;28mself\u001b[39m\u001b[38;5;241m.\u001b[39monboarding \u001b[38;5;241m=\u001b[39m \u001b[38;5;28;01mFalse\u001b[39;00m\n\u001b[1;32m--> 252\u001b[0m \u001b[38;5;28;43mself\u001b[39;49m\u001b[38;5;241;43m.\u001b[39;49m\u001b[43mauth\u001b[49m\u001b[43m(\u001b[49m\u001b[43m)\u001b[49m\n",
            "File \u001b[1;32mc:\\Program Files\\Python311\\Lib\\site-packages\\roboflow\\__init__.py:255\u001b[0m, in \u001b[0;36mRoboflow.auth\u001b[1;34m(self)\u001b[0m\n\u001b[0;32m    254\u001b[0m \u001b[38;5;28;01mdef\u001b[39;00m \u001b[38;5;21mauth\u001b[39m(\u001b[38;5;28mself\u001b[39m):\n\u001b[1;32m--> 255\u001b[0m     r \u001b[38;5;241m=\u001b[39m \u001b[43mcheck_key\u001b[49m\u001b[43m(\u001b[49m\u001b[38;5;28;43mself\u001b[39;49m\u001b[38;5;241;43m.\u001b[39;49m\u001b[43mapi_key\u001b[49m\u001b[43m,\u001b[49m\u001b[43m \u001b[49m\u001b[38;5;28;43mself\u001b[39;49m\u001b[38;5;241;43m.\u001b[39;49m\u001b[43mmodel_format\u001b[49m\u001b[43m,\u001b[49m\u001b[43m \u001b[49m\u001b[38;5;28;43mself\u001b[39;49m\u001b[38;5;241;43m.\u001b[39;49m\u001b[43mnotebook\u001b[49m\u001b[43m)\u001b[49m\n\u001b[0;32m    257\u001b[0m     \u001b[38;5;28;01mif\u001b[39;00m r \u001b[38;5;241m==\u001b[39m \u001b[38;5;124m\"\u001b[39m\u001b[38;5;124monboarding\u001b[39m\u001b[38;5;124m\"\u001b[39m:\n\u001b[0;32m    258\u001b[0m         \u001b[38;5;28mself\u001b[39m\u001b[38;5;241m.\u001b[39monboarding \u001b[38;5;241m=\u001b[39m \u001b[38;5;28;01mTrue\u001b[39;00m\n",
            "File \u001b[1;32mc:\\Program Files\\Python311\\Lib\\site-packages\\roboflow\\__init__.py:36\u001b[0m, in \u001b[0;36mcheck_key\u001b[1;34m(api_key, model, notebook, num_retries)\u001b[0m\n\u001b[0;32m     33\u001b[0m     \u001b[38;5;28;01mreturn\u001b[39;00m api_key\n\u001b[0;32m     34\u001b[0m \u001b[38;5;28;01melse\u001b[39;00m:\n\u001b[0;32m     35\u001b[0m     \u001b[38;5;66;03m# validate key normally\u001b[39;00m\n\u001b[1;32m---> 36\u001b[0m     response \u001b[38;5;241m=\u001b[39m \u001b[43mrequests\u001b[49m\u001b[38;5;241;43m.\u001b[39;49m\u001b[43mpost\u001b[49m\u001b[43m(\u001b[49m\u001b[43mAPI_URL\u001b[49m\u001b[43m \u001b[49m\u001b[38;5;241;43m+\u001b[39;49m\u001b[43m \u001b[49m\u001b[38;5;124;43m\"\u001b[39;49m\u001b[38;5;124;43m/?api_key=\u001b[39;49m\u001b[38;5;124;43m\"\u001b[39;49m\u001b[43m \u001b[49m\u001b[38;5;241;43m+\u001b[39;49m\u001b[43m \u001b[49m\u001b[43mapi_key\u001b[49m\u001b[43m)\u001b[49m\n\u001b[0;32m     38\u001b[0m     \u001b[38;5;28;01mif\u001b[39;00m response\u001b[38;5;241m.\u001b[39mstatus_code \u001b[38;5;241m==\u001b[39m \u001b[38;5;241m401\u001b[39m:\n\u001b[0;32m     39\u001b[0m         \u001b[38;5;28;01mraise\u001b[39;00m \u001b[38;5;167;01mRuntimeError\u001b[39;00m(response\u001b[38;5;241m.\u001b[39mtext)\n",
            "File \u001b[1;32m~\\AppData\\Roaming\\Python\\Python311\\site-packages\\requests\\api.py:115\u001b[0m, in \u001b[0;36mpost\u001b[1;34m(url, data, json, **kwargs)\u001b[0m\n\u001b[0;32m    103\u001b[0m \u001b[38;5;28;01mdef\u001b[39;00m \u001b[38;5;21mpost\u001b[39m(url, data\u001b[38;5;241m=\u001b[39m\u001b[38;5;28;01mNone\u001b[39;00m, json\u001b[38;5;241m=\u001b[39m\u001b[38;5;28;01mNone\u001b[39;00m, \u001b[38;5;241m*\u001b[39m\u001b[38;5;241m*\u001b[39mkwargs):\n\u001b[0;32m    104\u001b[0m \u001b[38;5;250m    \u001b[39m\u001b[38;5;124mr\u001b[39m\u001b[38;5;124;03m\"\"\"Sends a POST request.\u001b[39;00m\n\u001b[0;32m    105\u001b[0m \n\u001b[0;32m    106\u001b[0m \u001b[38;5;124;03m    :param url: URL for the new :class:`Request` object.\u001b[39;00m\n\u001b[1;32m   (...)\u001b[0m\n\u001b[0;32m    112\u001b[0m \u001b[38;5;124;03m    :rtype: requests.Response\u001b[39;00m\n\u001b[0;32m    113\u001b[0m \u001b[38;5;124;03m    \"\"\"\u001b[39;00m\n\u001b[1;32m--> 115\u001b[0m     \u001b[38;5;28;01mreturn\u001b[39;00m \u001b[43mrequest\u001b[49m\u001b[43m(\u001b[49m\u001b[38;5;124;43m\"\u001b[39;49m\u001b[38;5;124;43mpost\u001b[39;49m\u001b[38;5;124;43m\"\u001b[39;49m\u001b[43m,\u001b[49m\u001b[43m \u001b[49m\u001b[43murl\u001b[49m\u001b[43m,\u001b[49m\u001b[43m \u001b[49m\u001b[43mdata\u001b[49m\u001b[38;5;241;43m=\u001b[39;49m\u001b[43mdata\u001b[49m\u001b[43m,\u001b[49m\u001b[43m \u001b[49m\u001b[43mjson\u001b[49m\u001b[38;5;241;43m=\u001b[39;49m\u001b[43mjson\u001b[49m\u001b[43m,\u001b[49m\u001b[43m \u001b[49m\u001b[38;5;241;43m*\u001b[39;49m\u001b[38;5;241;43m*\u001b[39;49m\u001b[43mkwargs\u001b[49m\u001b[43m)\u001b[49m\n",
            "File \u001b[1;32m~\\AppData\\Roaming\\Python\\Python311\\site-packages\\requests\\api.py:59\u001b[0m, in \u001b[0;36mrequest\u001b[1;34m(method, url, **kwargs)\u001b[0m\n\u001b[0;32m     55\u001b[0m \u001b[38;5;66;03m# By using the 'with' statement we are sure the session is closed, thus we\u001b[39;00m\n\u001b[0;32m     56\u001b[0m \u001b[38;5;66;03m# avoid leaving sockets open which can trigger a ResourceWarning in some\u001b[39;00m\n\u001b[0;32m     57\u001b[0m \u001b[38;5;66;03m# cases, and look like a memory leak in others.\u001b[39;00m\n\u001b[0;32m     58\u001b[0m \u001b[38;5;28;01mwith\u001b[39;00m sessions\u001b[38;5;241m.\u001b[39mSession() \u001b[38;5;28;01mas\u001b[39;00m session:\n\u001b[1;32m---> 59\u001b[0m     \u001b[38;5;28;01mreturn\u001b[39;00m \u001b[43msession\u001b[49m\u001b[38;5;241;43m.\u001b[39;49m\u001b[43mrequest\u001b[49m\u001b[43m(\u001b[49m\u001b[43mmethod\u001b[49m\u001b[38;5;241;43m=\u001b[39;49m\u001b[43mmethod\u001b[49m\u001b[43m,\u001b[49m\u001b[43m \u001b[49m\u001b[43murl\u001b[49m\u001b[38;5;241;43m=\u001b[39;49m\u001b[43murl\u001b[49m\u001b[43m,\u001b[49m\u001b[43m \u001b[49m\u001b[38;5;241;43m*\u001b[39;49m\u001b[38;5;241;43m*\u001b[39;49m\u001b[43mkwargs\u001b[49m\u001b[43m)\u001b[49m\n",
            "File \u001b[1;32m~\\AppData\\Roaming\\Python\\Python311\\site-packages\\requests\\sessions.py:589\u001b[0m, in \u001b[0;36mSession.request\u001b[1;34m(self, method, url, params, data, headers, cookies, files, auth, timeout, allow_redirects, proxies, hooks, stream, verify, cert, json)\u001b[0m\n\u001b[0;32m    584\u001b[0m send_kwargs \u001b[38;5;241m=\u001b[39m {\n\u001b[0;32m    585\u001b[0m     \u001b[38;5;124m\"\u001b[39m\u001b[38;5;124mtimeout\u001b[39m\u001b[38;5;124m\"\u001b[39m: timeout,\n\u001b[0;32m    586\u001b[0m     \u001b[38;5;124m\"\u001b[39m\u001b[38;5;124mallow_redirects\u001b[39m\u001b[38;5;124m\"\u001b[39m: allow_redirects,\n\u001b[0;32m    587\u001b[0m }\n\u001b[0;32m    588\u001b[0m send_kwargs\u001b[38;5;241m.\u001b[39mupdate(settings)\n\u001b[1;32m--> 589\u001b[0m resp \u001b[38;5;241m=\u001b[39m \u001b[38;5;28;43mself\u001b[39;49m\u001b[38;5;241;43m.\u001b[39;49m\u001b[43msend\u001b[49m\u001b[43m(\u001b[49m\u001b[43mprep\u001b[49m\u001b[43m,\u001b[49m\u001b[43m \u001b[49m\u001b[38;5;241;43m*\u001b[39;49m\u001b[38;5;241;43m*\u001b[39;49m\u001b[43msend_kwargs\u001b[49m\u001b[43m)\u001b[49m\n\u001b[0;32m    591\u001b[0m \u001b[38;5;28;01mreturn\u001b[39;00m resp\n",
            "File \u001b[1;32m~\\AppData\\Roaming\\Python\\Python311\\site-packages\\requests\\sessions.py:703\u001b[0m, in \u001b[0;36mSession.send\u001b[1;34m(self, request, **kwargs)\u001b[0m\n\u001b[0;32m    700\u001b[0m start \u001b[38;5;241m=\u001b[39m preferred_clock()\n\u001b[0;32m    702\u001b[0m \u001b[38;5;66;03m# Send the request\u001b[39;00m\n\u001b[1;32m--> 703\u001b[0m r \u001b[38;5;241m=\u001b[39m \u001b[43madapter\u001b[49m\u001b[38;5;241;43m.\u001b[39;49m\u001b[43msend\u001b[49m\u001b[43m(\u001b[49m\u001b[43mrequest\u001b[49m\u001b[43m,\u001b[49m\u001b[43m \u001b[49m\u001b[38;5;241;43m*\u001b[39;49m\u001b[38;5;241;43m*\u001b[39;49m\u001b[43mkwargs\u001b[49m\u001b[43m)\u001b[49m\n\u001b[0;32m    705\u001b[0m \u001b[38;5;66;03m# Total elapsed time of the request (approximately)\u001b[39;00m\n\u001b[0;32m    706\u001b[0m elapsed \u001b[38;5;241m=\u001b[39m preferred_clock() \u001b[38;5;241m-\u001b[39m start\n",
            "File \u001b[1;32m~\\AppData\\Roaming\\Python\\Python311\\site-packages\\requests\\adapters.py:458\u001b[0m, in \u001b[0;36mHTTPAdapter.send\u001b[1;34m(self, request, stream, timeout, verify, cert, proxies)\u001b[0m\n\u001b[0;32m    455\u001b[0m \u001b[38;5;28;01mexcept\u001b[39;00m LocationValueError \u001b[38;5;28;01mas\u001b[39;00m e:\n\u001b[0;32m    456\u001b[0m     \u001b[38;5;28;01mraise\u001b[39;00m InvalidURL(e, request\u001b[38;5;241m=\u001b[39mrequest)\n\u001b[1;32m--> 458\u001b[0m \u001b[38;5;28;43mself\u001b[39;49m\u001b[38;5;241;43m.\u001b[39;49m\u001b[43mcert_verify\u001b[49m\u001b[43m(\u001b[49m\u001b[43mconn\u001b[49m\u001b[43m,\u001b[49m\u001b[43m \u001b[49m\u001b[43mrequest\u001b[49m\u001b[38;5;241;43m.\u001b[39;49m\u001b[43murl\u001b[49m\u001b[43m,\u001b[49m\u001b[43m \u001b[49m\u001b[43mverify\u001b[49m\u001b[43m,\u001b[49m\u001b[43m \u001b[49m\u001b[43mcert\u001b[49m\u001b[43m)\u001b[49m\n\u001b[0;32m    459\u001b[0m url \u001b[38;5;241m=\u001b[39m \u001b[38;5;28mself\u001b[39m\u001b[38;5;241m.\u001b[39mrequest_url(request, proxies)\n\u001b[0;32m    460\u001b[0m \u001b[38;5;28mself\u001b[39m\u001b[38;5;241m.\u001b[39madd_headers(\n\u001b[0;32m    461\u001b[0m     request,\n\u001b[0;32m    462\u001b[0m     stream\u001b[38;5;241m=\u001b[39mstream,\n\u001b[1;32m   (...)\u001b[0m\n\u001b[0;32m    466\u001b[0m     proxies\u001b[38;5;241m=\u001b[39mproxies,\n\u001b[0;32m    467\u001b[0m )\n",
            "File \u001b[1;32m~\\AppData\\Roaming\\Python\\Python311\\site-packages\\requests\\adapters.py:261\u001b[0m, in \u001b[0;36mHTTPAdapter.cert_verify\u001b[1;34m(self, conn, url, verify, cert)\u001b[0m\n\u001b[0;32m    258\u001b[0m     cert_loc \u001b[38;5;241m=\u001b[39m extract_zipped_paths(DEFAULT_CA_BUNDLE_PATH)\n\u001b[0;32m    260\u001b[0m \u001b[38;5;28;01mif\u001b[39;00m \u001b[38;5;129;01mnot\u001b[39;00m cert_loc \u001b[38;5;129;01mor\u001b[39;00m \u001b[38;5;129;01mnot\u001b[39;00m os\u001b[38;5;241m.\u001b[39mpath\u001b[38;5;241m.\u001b[39mexists(cert_loc):\n\u001b[1;32m--> 261\u001b[0m     \u001b[38;5;28;01mraise\u001b[39;00m \u001b[38;5;167;01mOSError\u001b[39;00m(\n\u001b[0;32m    262\u001b[0m         \u001b[38;5;124mf\u001b[39m\u001b[38;5;124m\"\u001b[39m\u001b[38;5;124mCould not find a suitable TLS CA certificate bundle, \u001b[39m\u001b[38;5;124m\"\u001b[39m\n\u001b[0;32m    263\u001b[0m         \u001b[38;5;124mf\u001b[39m\u001b[38;5;124m\"\u001b[39m\u001b[38;5;124minvalid path: \u001b[39m\u001b[38;5;132;01m{\u001b[39;00mcert_loc\u001b[38;5;132;01m}\u001b[39;00m\u001b[38;5;124m\"\u001b[39m\n\u001b[0;32m    264\u001b[0m     )\n\u001b[0;32m    266\u001b[0m conn\u001b[38;5;241m.\u001b[39mcert_reqs \u001b[38;5;241m=\u001b[39m \u001b[38;5;124m\"\u001b[39m\u001b[38;5;124mCERT_REQUIRED\u001b[39m\u001b[38;5;124m\"\u001b[39m\n\u001b[0;32m    268\u001b[0m \u001b[38;5;28;01mif\u001b[39;00m \u001b[38;5;129;01mnot\u001b[39;00m os\u001b[38;5;241m.\u001b[39mpath\u001b[38;5;241m.\u001b[39misdir(cert_loc):\n",
            "\u001b[1;31mOSError\u001b[0m: Could not find a suitable TLS CA certificate bundle, invalid path: C:\\Users\\Saim\\AppData\\Roaming\\Python\\Python311\\site-packages\\certifi\\cacert.pem"
          ]
        }
      ],
      "source": [
        "!mkdir {HOME}\\\\datasets\n",
        "%cd {HOME}\\\\datasets\n",
        "\n",
        "%pip install roboflow\n",
        "\n",
        "from roboflow import Roboflow\n",
        "\n",
        "rf = Roboflow(api_key=\"ds2uxDxQx48AI3lrbTqU\")\n",
        "project = rf.workspace(\"david-lee-d0rhs\").project(\"american-sign-language-letters\")\n",
        "dataset = project.version(6).download(\"yolov8\")\n"
      ]
    },
    {
      "cell_type": "markdown",
      "metadata": {
        "id": "65k1QMPwjt63"
      },
      "source": [
        "#**Train the YOLOv8 Model on the Custom Dataset**"
      ]
    },
    {
      "cell_type": "code",
      "execution_count": 20,
      "metadata": {
        "colab": {
          "base_uri": "https://localhost:8080/"
        },
        "id": "rcZyNfEnjpGz",
        "outputId": "b04e2659-44bf-4f0a-8258-f4f4e3db311a"
      },
      "outputs": [
        {
          "name": "stdout",
          "output_type": "stream",
          "text": [
            "c:\\Users\\Saim\\Documents\\GitHub\\Sign-Language-Detection\n"
          ]
        }
      ],
      "source": [
        "%cd {HOME}"
      ]
    },
    {
      "cell_type": "code",
      "execution_count": null,
      "metadata": {
        "colab": {
          "base_uri": "https://localhost:8080/"
        },
        "id": "mbBeu_eFj4J3",
        "outputId": "5677d181-fc77-4854-dca7-a8d822dfbe06"
      },
      "outputs": [
        {
          "name": "stdout",
          "output_type": "stream",
          "text": [
            "/content/datasets/American-Sign-Language-Letters-6\n"
          ]
        }
      ],
      "source": [
        "%cd {dataset.location}"
      ]
    },
    {
      "cell_type": "code",
      "execution_count": 23,
      "metadata": {
        "colab": {
          "base_uri": "https://localhost:8080/"
        },
        "id": "SA3S___qj88u",
        "outputId": "37299328-0363-4d0c-f809-7f178a8bddf3"
      },
      "outputs": [
        {
          "name": "stdout",
          "output_type": "stream",
          "text": [
            "c:\\Users\\Saim\\Documents\\GitHub\\Sign-Language-Detection\n"
          ]
        },
        {
          "name": "stderr",
          "output_type": "stream",
          "text": [
            "using dhist requires you to install the `pickleshare` library.\n"
          ]
        },
        {
          "name": "stdout",
          "output_type": "stream",
          "text": [
            "Downloading https://github.com/ultralytics/assets/releases/download/v0.0.0/yolov8l.pt to 'yolov8l.pt'...\n",
            "Ultralytics YOLOv8.0.227 🚀 Python-3.11.6 torch-2.1.2+cpu CPU (12th Gen Intel Core(TM) i5-1235U)\n",
            "\u001b[34m\u001b[1mengine\\trainer: \u001b[0mtask=detect, mode=train, model=yolov8l.pt, data=C:\\Users\\Saim\\Documents\\GitHub\\Sign-Language-Detection\\datasets\\American-Sign-Language-Letters-6/data.yaml, epochs=50, patience=50, batch=16, imgsz=800, save=True, save_period=-1, cache=False, device=None, workers=8, project=None, name=train, exist_ok=False, pretrained=True, optimizer=auto, verbose=True, seed=0, deterministic=True, single_cls=False, rect=False, cos_lr=False, close_mosaic=10, resume=False, amp=True, fraction=1.0, profile=False, freeze=None, overlap_mask=True, mask_ratio=4, dropout=0.0, val=True, split=val, save_json=False, save_hybrid=False, conf=None, iou=0.7, max_det=300, half=False, dnn=False, plots=True, source=None, vid_stride=1, stream_buffer=False, visualize=False, augment=False, agnostic_nms=False, classes=None, retina_masks=False, show=False, save_frames=False, save_txt=False, save_conf=False, save_crop=False, show_labels=True, show_conf=True, show_boxes=True, line_width=None, format=torchscript, keras=False, optimize=False, int8=False, dynamic=False, simplify=False, opset=None, workspace=4, nms=False, lr0=0.01, lrf=0.01, momentum=0.937, weight_decay=0.0005, warmup_epochs=3.0, warmup_momentum=0.8, warmup_bias_lr=0.1, box=7.5, cls=0.5, dfl=1.5, pose=12.0, kobj=1.0, label_smoothing=0.0, nbs=64, hsv_h=0.015, hsv_s=0.7, hsv_v=0.4, degrees=0.0, translate=0.1, scale=0.5, shear=0.0, perspective=0.0, flipud=0.0, fliplr=0.5, mosaic=1.0, mixup=0.0, copy_paste=0.0, cfg=None, tracker=botsort.yaml, save_dir=runs\\detect\\train\n",
            "Downloading https://ultralytics.com/assets/Arial.ttf to 'C:\\Users\\Saim\\AppData\\Roaming\\Ultralytics\\Arial.ttf'...\n",
            "Overriding model.yaml nc=80 with nc=26\n",
            "\n",
            "                   from  n    params  module                                       arguments                     \n",
            "  0                  -1  1      1856  ultralytics.nn.modules.conv.Conv             [3, 64, 3, 2]                 \n",
            "  1                  -1  1     73984  ultralytics.nn.modules.conv.Conv             [64, 128, 3, 2]               \n",
            "  2                  -1  3    279808  ultralytics.nn.modules.block.C2f             [128, 128, 3, True]           \n",
            "  3                  -1  1    295424  ultralytics.nn.modules.conv.Conv             [128, 256, 3, 2]              \n",
            "  4                  -1  6   2101248  ultralytics.nn.modules.block.C2f             [256, 256, 6, True]           \n",
            "  5                  -1  1   1180672  ultralytics.nn.modules.conv.Conv             [256, 512, 3, 2]              \n",
            "  6                  -1  6   8396800  ultralytics.nn.modules.block.C2f             [512, 512, 6, True]           \n",
            "  7                  -1  1   2360320  ultralytics.nn.modules.conv.Conv             [512, 512, 3, 2]              \n",
            "  8                  -1  3   4461568  ultralytics.nn.modules.block.C2f             [512, 512, 3, True]           \n",
            "  9                  -1  1    656896  ultralytics.nn.modules.block.SPPF            [512, 512, 5]                 \n",
            " 10                  -1  1         0  torch.nn.modules.upsampling.Upsample         [None, 2, 'nearest']          \n",
            " 11             [-1, 6]  1         0  ultralytics.nn.modules.conv.Concat           [1]                           \n",
            " 12                  -1  3   4723712  ultralytics.nn.modules.block.C2f             [1024, 512, 3]                \n",
            " 13                  -1  1         0  torch.nn.modules.upsampling.Upsample         [None, 2, 'nearest']          \n",
            " 14             [-1, 4]  1         0  ultralytics.nn.modules.conv.Concat           [1]                           \n",
            " 15                  -1  3   1247744  ultralytics.nn.modules.block.C2f             [768, 256, 3]                 \n",
            " 16                  -1  1    590336  ultralytics.nn.modules.conv.Conv             [256, 256, 3, 2]              \n",
            " 17            [-1, 12]  1         0  ultralytics.nn.modules.conv.Concat           [1]                           \n",
            " 18                  -1  3   4592640  ultralytics.nn.modules.block.C2f             [768, 512, 3]                 \n",
            " 19                  -1  1   2360320  ultralytics.nn.modules.conv.Conv             [512, 512, 3, 2]              \n",
            " 20             [-1, 9]  1         0  ultralytics.nn.modules.conv.Concat           [1]                           \n",
            " 21                  -1  3   4723712  ultralytics.nn.modules.block.C2f             [1024, 512, 3]                \n",
            " 22        [15, 18, 21]  1   5602846  ultralytics.nn.modules.head.Detect           [26, [256, 512, 512]]         \n",
            "Model summary: 365 layers, 43649886 parameters, 43649870 gradients, 165.5 GFLOPs\n",
            "\n",
            "Transferred 589/595 items from pretrained weights\n",
            "\u001b[34m\u001b[1mTensorBoard: \u001b[0mStart with 'tensorboard --logdir runs\\detect\\train', view at http://localhost:6006/\n",
            "Freezing layer 'model.22.dfl.conv.weight'\n",
            "\u001b[34m\u001b[1mtrain: \u001b[0mNew cache created: C:\\Users\\Saim\\Documents\\GitHub\\Sign-Language-Detection\\datasets\\American-Sign-Language-Letters-6\\train\\labels.cache\n",
            "\u001b[34m\u001b[1mval: \u001b[0mNew cache created: C:\\Users\\Saim\\Documents\\GitHub\\Sign-Language-Detection\\datasets\\American-Sign-Language-Letters-6\\valid\\labels.cache\n",
            "Plotting labels to runs\\detect\\train\\labels.jpg... \n",
            "\u001b[34m\u001b[1moptimizer:\u001b[0m 'optimizer=auto' found, ignoring 'lr0=0.01' and 'momentum=0.937' and determining best 'optimizer', 'lr0' and 'momentum' automatically... \n",
            "\u001b[34m\u001b[1moptimizer:\u001b[0m AdamW(lr=0.000333, momentum=0.9) with parameter groups 97 weight(decay=0.0), 104 weight(decay=0.0005), 103 bias(decay=0.0)\n",
            "Image sizes 800 train, 800 val\n",
            "Using 0 dataloader workers\n",
            "Logging results to \u001b[1mruns\\detect\\train\u001b[0m\n",
            "Starting training for 50 epochs...\n",
            "\n",
            "      Epoch    GPU_mem   box_loss   cls_loss   dfl_loss  Instances       Size\n"
          ]
        },
        {
          "name": "stderr",
          "output_type": "stream",
          "text": [
            "\n",
            "  0%|          | 0.00/83.7M [00:00<?, ?B/s]\n",
            "  0%|          | 56.0k/83.7M [00:00<02:40, 547kB/s]\n",
            "  0%|          | 184k/83.7M [00:00<01:32, 944kB/s] \n",
            "  0%|          | 376k/83.7M [00:00<01:03, 1.38MB/s]\n",
            "  1%|          | 760k/83.7M [00:00<00:37, 2.32MB/s]\n",
            "  2%|▏         | 1.26M/83.7M [00:00<00:25, 3.34MB/s]\n",
            "  3%|▎         | 2.23M/83.7M [00:00<00:15, 5.48MB/s]\n",
            "  3%|▎         | 2.75M/83.7M [00:00<00:19, 4.46MB/s]\n",
            "  4%|▍         | 3.62M/83.7M [00:00<00:15, 5.56MB/s]\n",
            "  5%|▌         | 4.41M/83.7M [00:01<00:13, 6.29MB/s]\n",
            "  6%|▌         | 5.21M/83.7M [00:01<00:11, 6.86MB/s]\n",
            "  7%|▋         | 6.27M/83.7M [00:01<00:10, 7.89MB/s]\n",
            "  8%|▊         | 7.05M/83.7M [00:01<00:10, 7.58MB/s]\n",
            " 10%|▉         | 8.02M/83.7M [00:01<00:09, 8.18MB/s]\n",
            " 11%|█         | 8.99M/83.7M [00:01<00:09, 8.59MB/s]\n",
            " 12%|█▏        | 9.90M/83.7M [00:01<00:09, 8.46MB/s]\n",
            " 13%|█▎        | 10.7M/83.7M [00:01<00:09, 7.98MB/s]\n",
            " 14%|█▍        | 11.7M/83.7M [00:01<00:08, 8.47MB/s]\n",
            " 15%|█▍        | 12.5M/83.7M [00:02<00:09, 7.50MB/s]\n",
            " 16%|█▌        | 13.2M/83.7M [00:02<00:11, 6.62MB/s]\n",
            " 17%|█▋        | 13.9M/83.7M [00:02<00:11, 6.50MB/s]\n",
            " 17%|█▋        | 14.5M/83.7M [00:02<00:18, 3.93MB/s]\n",
            " 18%|█▊        | 15.5M/83.7M [00:02<00:14, 4.81MB/s]\n",
            " 20%|█▉        | 16.4M/83.7M [00:02<00:12, 5.67MB/s]\n",
            " 21%|██        | 17.4M/83.7M [00:02<00:10, 6.85MB/s]\n",
            " 22%|██▏       | 18.3M/83.7M [00:03<00:09, 7.19MB/s]\n",
            " 23%|██▎       | 19.0M/83.7M [00:03<00:10, 6.63MB/s]\n",
            " 24%|██▎       | 19.8M/83.7M [00:03<00:13, 5.11MB/s]\n",
            " 24%|██▍       | 20.4M/83.7M [00:03<00:12, 5.48MB/s]\n",
            " 25%|██▌       | 21.2M/83.7M [00:03<00:10, 6.05MB/s]\n",
            " 26%|██▌       | 21.9M/83.7M [00:03<00:11, 5.72MB/s]\n",
            " 27%|██▋       | 22.6M/83.7M [00:03<00:10, 6.31MB/s]\n",
            " 28%|██▊       | 23.3M/83.7M [00:04<00:09, 6.43MB/s]\n",
            " 29%|██▉       | 24.3M/83.7M [00:04<00:08, 7.42MB/s]\n",
            " 30%|███       | 25.4M/83.7M [00:04<00:07, 8.38MB/s]\n",
            " 31%|███▏      | 26.2M/83.7M [00:04<00:07, 8.24MB/s]\n",
            " 32%|███▏      | 27.0M/83.7M [00:04<00:07, 8.00MB/s]\n",
            " 33%|███▎      | 27.8M/83.7M [00:04<00:07, 7.97MB/s]\n",
            " 34%|███▍      | 28.7M/83.7M [00:04<00:06, 8.29MB/s]\n",
            " 36%|███▌      | 29.8M/83.7M [00:04<00:06, 8.67MB/s]\n",
            " 37%|███▋      | 30.8M/83.7M [00:04<00:06, 9.16MB/s]\n",
            " 38%|███▊      | 31.8M/83.7M [00:04<00:05, 9.65MB/s]\n",
            " 39%|███▉      | 32.7M/83.7M [00:05<00:06, 7.81MB/s]\n",
            " 40%|████      | 33.5M/83.7M [00:05<00:07, 6.82MB/s]\n",
            " 41%|████      | 34.2M/83.7M [00:05<00:08, 6.36MB/s]\n",
            " 42%|████▏     | 34.9M/83.7M [00:05<00:08, 5.93MB/s]\n",
            " 43%|████▎     | 35.6M/83.7M [00:05<00:08, 6.25MB/s]\n",
            " 43%|████▎     | 36.2M/83.7M [00:05<00:08, 6.05MB/s]\n",
            " 44%|████▍     | 36.8M/83.7M [00:06<00:09, 5.16MB/s]\n",
            " 45%|████▍     | 37.4M/83.7M [00:06<00:09, 5.37MB/s]\n",
            " 45%|████▌     | 38.0M/83.7M [00:06<00:08, 5.66MB/s]\n",
            " 47%|████▋     | 38.9M/83.7M [00:06<00:07, 6.61MB/s]\n",
            " 47%|████▋     | 39.6M/83.7M [00:06<00:07, 6.23MB/s]\n",
            " 48%|████▊     | 40.4M/83.7M [00:06<00:06, 6.80MB/s]\n",
            " 49%|████▉     | 41.1M/83.7M [00:06<00:11, 3.84MB/s]\n",
            " 50%|█████     | 41.9M/83.7M [00:07<00:09, 4.68MB/s]\n",
            " 51%|█████     | 42.8M/83.7M [00:07<00:07, 5.47MB/s]\n",
            " 52%|█████▏    | 43.5M/83.7M [00:07<00:06, 6.08MB/s]\n",
            " 53%|█████▎    | 44.2M/83.7M [00:07<00:07, 5.38MB/s]\n",
            " 54%|█████▍    | 45.3M/83.7M [00:07<00:06, 6.68MB/s]\n",
            " 55%|█████▌    | 46.1M/83.7M [00:07<00:07, 5.50MB/s]\n",
            " 56%|█████▌    | 46.9M/83.7M [00:07<00:06, 6.09MB/s]\n",
            " 57%|█████▋    | 47.8M/83.7M [00:07<00:05, 6.73MB/s]\n",
            " 58%|█████▊    | 48.5M/83.7M [00:08<00:05, 6.61MB/s]\n",
            " 59%|█████▉    | 49.2M/83.7M [00:08<00:09, 3.65MB/s]\n",
            " 60%|█████▉    | 50.1M/83.7M [00:08<00:07, 4.49MB/s]\n",
            " 61%|██████    | 50.7M/83.7M [00:08<00:08, 3.95MB/s]\n",
            " 61%|██████    | 51.2M/83.7M [00:08<00:08, 4.12MB/s]\n",
            " 62%|██████▏   | 52.0M/83.7M [00:09<00:06, 4.86MB/s]\n",
            " 63%|██████▎   | 52.8M/83.7M [00:09<00:05, 5.71MB/s]\n",
            " 64%|██████▍   | 53.6M/83.7M [00:09<00:05, 6.20MB/s]\n",
            " 65%|██████▌   | 54.6M/83.7M [00:09<00:04, 7.21MB/s]\n",
            " 66%|██████▌   | 55.4M/83.7M [00:09<00:03, 7.63MB/s]\n",
            " 67%|██████▋   | 56.3M/83.7M [00:09<00:03, 7.88MB/s]\n",
            " 68%|██████▊   | 57.3M/83.7M [00:09<00:03, 8.73MB/s]\n",
            " 70%|██████▉   | 58.2M/83.7M [00:09<00:03, 8.45MB/s]\n",
            " 71%|███████   | 59.0M/83.7M [00:09<00:03, 6.88MB/s]\n",
            " 72%|███████▏  | 59.9M/83.7M [00:10<00:03, 7.43MB/s]\n",
            " 73%|███████▎  | 60.7M/83.7M [00:10<00:03, 7.59MB/s]\n",
            " 74%|███████▎  | 61.5M/83.7M [00:10<00:02, 7.80MB/s]\n",
            " 74%|███████▍  | 62.3M/83.7M [00:10<00:03, 6.34MB/s]\n",
            " 75%|███████▌  | 63.0M/83.7M [00:10<00:03, 6.25MB/s]\n",
            " 76%|███████▌  | 63.6M/83.7M [00:10<00:03, 5.58MB/s]\n",
            " 77%|███████▋  | 64.6M/83.7M [00:10<00:02, 6.75MB/s]\n",
            " 78%|███████▊  | 65.3M/83.7M [00:10<00:02, 6.58MB/s]\n",
            " 79%|███████▉  | 66.2M/83.7M [00:11<00:02, 7.06MB/s]\n",
            " 80%|███████▉  | 66.9M/83.7M [00:11<00:02, 6.41MB/s]\n",
            " 81%|████████  | 67.6M/83.7M [00:11<00:02, 6.21MB/s]\n",
            " 82%|████████▏ | 68.6M/83.7M [00:11<00:02, 7.21MB/s]\n",
            " 83%|████████▎ | 69.3M/83.7M [00:11<00:02, 7.38MB/s]\n",
            " 84%|████████▎ | 70.1M/83.7M [00:11<00:02, 6.28MB/s]\n",
            " 85%|████████▍ | 70.8M/83.7M [00:11<00:02, 6.67MB/s]\n",
            " 86%|████████▌ | 72.0M/83.7M [00:11<00:01, 8.20MB/s]\n",
            " 87%|████████▋ | 73.1M/83.7M [00:12<00:01, 8.63MB/s]\n",
            " 88%|████████▊ | 73.9M/83.7M [00:12<00:01, 6.99MB/s]\n",
            " 89%|████████▉ | 74.6M/83.7M [00:12<00:01, 6.85MB/s]\n",
            " 90%|█████████ | 75.4M/83.7M [00:12<00:01, 5.90MB/s]\n",
            " 91%|█████████ | 76.2M/83.7M [00:12<00:01, 6.50MB/s]\n",
            " 92%|█████████▏| 76.9M/83.7M [00:12<00:01, 5.50MB/s]\n",
            " 93%|█████████▎| 77.4M/83.7M [00:12<00:01, 5.57MB/s]\n",
            " 94%|█████████▍| 78.5M/83.7M [00:13<00:00, 6.79MB/s]\n",
            " 95%|█████████▌| 79.5M/83.7M [00:13<00:00, 6.57MB/s]\n",
            " 96%|█████████▌| 80.2M/83.7M [00:13<00:00, 6.31MB/s]\n",
            " 97%|█████████▋| 80.9M/83.7M [00:13<00:00, 5.75MB/s]\n",
            " 98%|█████████▊| 81.7M/83.7M [00:13<00:00, 6.07MB/s]\n",
            " 98%|█████████▊| 82.4M/83.7M [00:13<00:00, 6.05MB/s]\n",
            " 99%|█████████▉| 83.0M/83.7M [00:13<00:00, 5.19MB/s]\n",
            "100%|█████████▉| 83.5M/83.7M [00:14<00:00, 4.66MB/s]\n",
            "100%|██████████| 83.7M/83.7M [00:14<00:00, 6.20MB/s]\n",
            "\n",
            "  0%|          | 0.00/755k [00:00<?, ?B/s]\n",
            "  7%|▋         | 56.0k/755k [00:00<00:01, 503kB/s]\n",
            " 22%|██▏       | 168k/755k [00:00<00:00, 832kB/s] \n",
            " 39%|███▉      | 296k/755k [00:00<00:00, 1.01MB/s]\n",
            " 67%|██████▋   | 504k/755k [00:00<00:00, 1.29MB/s]\n",
            "100%|██████████| 755k/755k [00:00<00:00, 1.51MB/s]\n",
            "WARNING:tensorflow:From C:\\Users\\Saim\\AppData\\Roaming\\Python\\Python311\\site-packages\\keras\\src\\losses.py:2976: The name tf.losses.sparse_softmax_cross_entropy is deprecated. Please use tf.compat.v1.losses.sparse_softmax_cross_entropy instead.\n",
            "\n",
            "\n",
            "\u001b[34m\u001b[1mtrain: \u001b[0mScanning C:\\Users\\Saim\\Documents\\GitHub\\Sign-Language-Detection\\datasets\\American-Sign-Language-Letters-6\\train\\labels...:   0%|          | 0/504 [00:00<?, ?it/s]\n",
            "\u001b[34m\u001b[1mtrain: \u001b[0mScanning C:\\Users\\Saim\\Documents\\GitHub\\Sign-Language-Detection\\datasets\\American-Sign-Language-Letters-6\\train\\labels... 1 images, 0 backgrounds, 0 corrupt:   0%|          | 1/504 [00:00<01:00,  8.30it/s]\n",
            "\u001b[34m\u001b[1mtrain: \u001b[0mScanning C:\\Users\\Saim\\Documents\\GitHub\\Sign-Language-Detection\\datasets\\American-Sign-Language-Letters-6\\train\\labels... 36 images, 0 backgrounds, 0 corrupt:   7%|▋         | 36/504 [00:00<00:02, 193.15it/s]\n",
            "\u001b[34m\u001b[1mtrain: \u001b[0mScanning C:\\Users\\Saim\\Documents\\GitHub\\Sign-Language-Detection\\datasets\\American-Sign-Language-Letters-6\\train\\labels... 72 images, 0 backgrounds, 0 corrupt:  14%|█▍        | 72/504 [00:00<00:01, 259.49it/s]\n",
            "\u001b[34m\u001b[1mtrain: \u001b[0mScanning C:\\Users\\Saim\\Documents\\GitHub\\Sign-Language-Detection\\datasets\\American-Sign-Language-Letters-6\\train\\labels... 104 images, 0 backgrounds, 0 corrupt:  21%|██        | 104/504 [00:00<00:01, 279.51it/s]\n",
            "\u001b[34m\u001b[1mtrain: \u001b[0mScanning C:\\Users\\Saim\\Documents\\GitHub\\Sign-Language-Detection\\datasets\\American-Sign-Language-Letters-6\\train\\labels... 141 images, 0 backgrounds, 0 corrupt:  28%|██▊       | 141/504 [00:00<00:01, 306.80it/s]\n",
            "\u001b[34m\u001b[1mtrain: \u001b[0mScanning C:\\Users\\Saim\\Documents\\GitHub\\Sign-Language-Detection\\datasets\\American-Sign-Language-Letters-6\\train\\labels... 174 images, 0 backgrounds, 0 corrupt:  35%|███▍      | 174/504 [00:00<00:01, 307.69it/s]\n",
            "\u001b[34m\u001b[1mtrain: \u001b[0mScanning C:\\Users\\Saim\\Documents\\GitHub\\Sign-Language-Detection\\datasets\\American-Sign-Language-Letters-6\\train\\labels... 211 images, 0 backgrounds, 0 corrupt:  42%|████▏     | 211/504 [00:00<00:00, 324.93it/s]\n",
            "\u001b[34m\u001b[1mtrain: \u001b[0mScanning C:\\Users\\Saim\\Documents\\GitHub\\Sign-Language-Detection\\datasets\\American-Sign-Language-Letters-6\\train\\labels... 244 images, 0 backgrounds, 0 corrupt:  48%|████▊     | 244/504 [00:00<00:00, 316.69it/s]\n",
            "\u001b[34m\u001b[1mtrain: \u001b[0mScanning C:\\Users\\Saim\\Documents\\GitHub\\Sign-Language-Detection\\datasets\\American-Sign-Language-Letters-6\\train\\labels... 279 images, 0 backgrounds, 0 corrupt:  55%|█████▌    | 279/504 [00:00<00:00, 323.29it/s]\n",
            "\u001b[34m\u001b[1mtrain: \u001b[0mScanning C:\\Users\\Saim\\Documents\\GitHub\\Sign-Language-Detection\\datasets\\American-Sign-Language-Letters-6\\train\\labels... 315 images, 0 backgrounds, 0 corrupt:  62%|██████▎   | 315/504 [00:01<00:00, 329.96it/s]\n",
            "\u001b[34m\u001b[1mtrain: \u001b[0mScanning C:\\Users\\Saim\\Documents\\GitHub\\Sign-Language-Detection\\datasets\\American-Sign-Language-Letters-6\\train\\labels... 349 images, 0 backgrounds, 0 corrupt:  69%|██████▉   | 349/504 [00:01<00:00, 331.65it/s]\n",
            "\u001b[34m\u001b[1mtrain: \u001b[0mScanning C:\\Users\\Saim\\Documents\\GitHub\\Sign-Language-Detection\\datasets\\American-Sign-Language-Letters-6\\train\\labels... 383 images, 0 backgrounds, 0 corrupt:  76%|███████▌  | 383/504 [00:01<00:00, 333.87it/s]\n",
            "\u001b[34m\u001b[1mtrain: \u001b[0mScanning C:\\Users\\Saim\\Documents\\GitHub\\Sign-Language-Detection\\datasets\\American-Sign-Language-Letters-6\\train\\labels... 417 images, 0 backgrounds, 0 corrupt:  83%|████████▎ | 417/504 [00:01<00:00, 335.13it/s]\n",
            "\u001b[34m\u001b[1mtrain: \u001b[0mScanning C:\\Users\\Saim\\Documents\\GitHub\\Sign-Language-Detection\\datasets\\American-Sign-Language-Letters-6\\train\\labels... 451 images, 0 backgrounds, 0 corrupt:  89%|████████▉ | 451/504 [00:01<00:00, 317.48it/s]\n",
            "\u001b[34m\u001b[1mtrain: \u001b[0mScanning C:\\Users\\Saim\\Documents\\GitHub\\Sign-Language-Detection\\datasets\\American-Sign-Language-Letters-6\\train\\labels... 485 images, 0 backgrounds, 0 corrupt:  96%|█████████▌| 485/504 [00:01<00:00, 319.40it/s]\n",
            "\u001b[34m\u001b[1mtrain: \u001b[0mScanning C:\\Users\\Saim\\Documents\\GitHub\\Sign-Language-Detection\\datasets\\American-Sign-Language-Letters-6\\train\\labels... 504 images, 0 backgrounds, 0 corrupt: 100%|██████████| 504/504 [00:01<00:00, 308.47it/s]\n",
            "\n",
            "\u001b[34m\u001b[1mval: \u001b[0mScanning C:\\Users\\Saim\\Documents\\GitHub\\Sign-Language-Detection\\datasets\\American-Sign-Language-Letters-6\\valid\\labels...:   0%|          | 0/144 [00:00<?, ?it/s]\n",
            "\u001b[34m\u001b[1mval: \u001b[0mScanning C:\\Users\\Saim\\Documents\\GitHub\\Sign-Language-Detection\\datasets\\American-Sign-Language-Letters-6\\valid\\labels... 17 images, 0 backgrounds, 0 corrupt:  12%|█▏        | 17/144 [00:00<00:00, 141.75it/s]\n",
            "\u001b[34m\u001b[1mval: \u001b[0mScanning C:\\Users\\Saim\\Documents\\GitHub\\Sign-Language-Detection\\datasets\\American-Sign-Language-Letters-6\\valid\\labels... 49 images, 0 backgrounds, 0 corrupt:  34%|███▍      | 49/144 [00:00<00:00, 230.55it/s]\n",
            "\u001b[34m\u001b[1mval: \u001b[0mScanning C:\\Users\\Saim\\Documents\\GitHub\\Sign-Language-Detection\\datasets\\American-Sign-Language-Letters-6\\valid\\labels... 86 images, 0 backgrounds, 0 corrupt:  60%|█████▉    | 86/144 [00:00<00:00, 286.95it/s]\n",
            "\u001b[34m\u001b[1mval: \u001b[0mScanning C:\\Users\\Saim\\Documents\\GitHub\\Sign-Language-Detection\\datasets\\American-Sign-Language-Letters-6\\valid\\labels... 116 images, 0 backgrounds, 0 corrupt:  81%|████████  | 116/144 [00:00<00:00, 291.47it/s]\n",
            "\u001b[34m\u001b[1mval: \u001b[0mScanning C:\\Users\\Saim\\Documents\\GitHub\\Sign-Language-Detection\\datasets\\American-Sign-Language-Letters-6\\valid\\labels... 144 images, 0 backgrounds, 0 corrupt: 100%|██████████| 144/144 [00:00<00:00, 281.58it/s]\n",
            "\n",
            "  0%|          | 0/32 [00:00<?, ?it/s]\n"
          ]
        }
      ],
      "source": [
        "%cd {HOME}\n",
        "\n",
        "dataset_location = \"C:\\\\Users\\\\Saim\\\\Documents\\\\GitHub\\\\Sign-Language-Detection\\\\datasets\\\\American-Sign-Language-Letters-6\"\n",
        "\n",
        "!yolo task=detect mode=train model=yolov8l.pt data=\"{dataset_location}\\\\data.yaml\" epochs=50 imgsz=800"
      ]
    },
    {
      "cell_type": "code",
      "execution_count": null,
      "metadata": {
        "colab": {
          "base_uri": "https://localhost:8080/"
        },
        "id": "VIdYdhQjT1pR",
        "outputId": "24bf46f5-0fab-4028-c824-02cf1f90a686"
      },
      "outputs": [
        {
          "name": "stdout",
          "output_type": "stream",
          "text": [
            "args.yaml  weights\n"
          ]
        }
      ],
      "source": [
        "!ls {HOME}/runs/detect/train/"
      ]
    },
    {
      "cell_type": "markdown",
      "metadata": {
        "id": "dRT8XUB2T-rs"
      },
      "source": [
        "#**Displaying the Confusion Matrix**"
      ]
    },
    {
      "cell_type": "code",
      "execution_count": null,
      "metadata": {
        "colab": {
          "base_uri": "https://localhost:8080/",
          "height": 355
        },
        "id": "i8rzAG4LUDuB",
        "outputId": "73a67101-562c-4b4c-dde7-aaec163d4c99"
      },
      "outputs": [
        {
          "name": "stdout",
          "output_type": "stream",
          "text": [
            "/content\n"
          ]
        },
        {
          "ename": "FileNotFoundError",
          "evalue": "ignored",
          "output_type": "error",
          "traceback": [
            "\u001b[0;31m---------------------------------------------------------------------------\u001b[0m",
            "\u001b[0;31mFileNotFoundError\u001b[0m                         Traceback (most recent call last)",
            "\u001b[0;32m<ipython-input-20-a3e155e83b61>\u001b[0m in \u001b[0;36m<cell line: 2>\u001b[0;34m()\u001b[0m\n\u001b[1;32m      1\u001b[0m \u001b[0mget_ipython\u001b[0m\u001b[0;34m(\u001b[0m\u001b[0;34m)\u001b[0m\u001b[0;34m.\u001b[0m\u001b[0mrun_line_magic\u001b[0m\u001b[0;34m(\u001b[0m\u001b[0;34m'cd'\u001b[0m\u001b[0;34m,\u001b[0m \u001b[0;34m'{HOME}'\u001b[0m\u001b[0;34m)\u001b[0m\u001b[0;34m\u001b[0m\u001b[0;34m\u001b[0m\u001b[0m\n\u001b[0;32m----> 2\u001b[0;31m \u001b[0mImage\u001b[0m\u001b[0;34m(\u001b[0m\u001b[0mfilename\u001b[0m\u001b[0;34m=\u001b[0m\u001b[0;34mf'{HOME}/runs/detect/train/confusion_matrix.png'\u001b[0m\u001b[0;34m,\u001b[0m \u001b[0mwidth\u001b[0m\u001b[0;34m=\u001b[0m\u001b[0;36m900\u001b[0m\u001b[0;34m)\u001b[0m\u001b[0;34m\u001b[0m\u001b[0;34m\u001b[0m\u001b[0m\n\u001b[0m",
            "\u001b[0;32m/usr/local/lib/python3.10/dist-packages/IPython/core/display.py\u001b[0m in \u001b[0;36m__init__\u001b[0;34m(self, data, url, filename, format, embed, width, height, retina, unconfined, metadata)\u001b[0m\n\u001b[1;32m   1229\u001b[0m         \u001b[0mself\u001b[0m\u001b[0;34m.\u001b[0m\u001b[0mretina\u001b[0m \u001b[0;34m=\u001b[0m \u001b[0mretina\u001b[0m\u001b[0;34m\u001b[0m\u001b[0;34m\u001b[0m\u001b[0m\n\u001b[1;32m   1230\u001b[0m         \u001b[0mself\u001b[0m\u001b[0;34m.\u001b[0m\u001b[0munconfined\u001b[0m \u001b[0;34m=\u001b[0m \u001b[0munconfined\u001b[0m\u001b[0;34m\u001b[0m\u001b[0;34m\u001b[0m\u001b[0m\n\u001b[0;32m-> 1231\u001b[0;31m         super(Image, self).__init__(data=data, url=url, filename=filename, \n\u001b[0m\u001b[1;32m   1232\u001b[0m                 metadata=metadata)\n\u001b[1;32m   1233\u001b[0m \u001b[0;34m\u001b[0m\u001b[0m\n",
            "\u001b[0;32m/usr/local/lib/python3.10/dist-packages/IPython/core/display.py\u001b[0m in \u001b[0;36m__init__\u001b[0;34m(self, data, url, filename, metadata)\u001b[0m\n\u001b[1;32m    635\u001b[0m             \u001b[0mself\u001b[0m\u001b[0;34m.\u001b[0m\u001b[0mmetadata\u001b[0m \u001b[0;34m=\u001b[0m \u001b[0;34m{\u001b[0m\u001b[0;34m}\u001b[0m\u001b[0;34m\u001b[0m\u001b[0;34m\u001b[0m\u001b[0m\n\u001b[1;32m    636\u001b[0m \u001b[0;34m\u001b[0m\u001b[0m\n\u001b[0;32m--> 637\u001b[0;31m         \u001b[0mself\u001b[0m\u001b[0;34m.\u001b[0m\u001b[0mreload\u001b[0m\u001b[0;34m(\u001b[0m\u001b[0;34m)\u001b[0m\u001b[0;34m\u001b[0m\u001b[0;34m\u001b[0m\u001b[0m\n\u001b[0m\u001b[1;32m    638\u001b[0m         \u001b[0mself\u001b[0m\u001b[0;34m.\u001b[0m\u001b[0m_check_data\u001b[0m\u001b[0;34m(\u001b[0m\u001b[0;34m)\u001b[0m\u001b[0;34m\u001b[0m\u001b[0;34m\u001b[0m\u001b[0m\n\u001b[1;32m    639\u001b[0m \u001b[0;34m\u001b[0m\u001b[0m\n",
            "\u001b[0;32m/usr/local/lib/python3.10/dist-packages/IPython/core/display.py\u001b[0m in \u001b[0;36mreload\u001b[0;34m(self)\u001b[0m\n\u001b[1;32m   1261\u001b[0m         \u001b[0;34m\"\"\"Reload the raw data from file or URL.\"\"\"\u001b[0m\u001b[0;34m\u001b[0m\u001b[0;34m\u001b[0m\u001b[0m\n\u001b[1;32m   1262\u001b[0m         \u001b[0;32mif\u001b[0m \u001b[0mself\u001b[0m\u001b[0;34m.\u001b[0m\u001b[0membed\u001b[0m\u001b[0;34m:\u001b[0m\u001b[0;34m\u001b[0m\u001b[0;34m\u001b[0m\u001b[0m\n\u001b[0;32m-> 1263\u001b[0;31m             \u001b[0msuper\u001b[0m\u001b[0;34m(\u001b[0m\u001b[0mImage\u001b[0m\u001b[0;34m,\u001b[0m\u001b[0mself\u001b[0m\u001b[0;34m)\u001b[0m\u001b[0;34m.\u001b[0m\u001b[0mreload\u001b[0m\u001b[0;34m(\u001b[0m\u001b[0;34m)\u001b[0m\u001b[0;34m\u001b[0m\u001b[0;34m\u001b[0m\u001b[0m\n\u001b[0m\u001b[1;32m   1264\u001b[0m             \u001b[0;32mif\u001b[0m \u001b[0mself\u001b[0m\u001b[0;34m.\u001b[0m\u001b[0mretina\u001b[0m\u001b[0;34m:\u001b[0m\u001b[0;34m\u001b[0m\u001b[0;34m\u001b[0m\u001b[0m\n\u001b[1;32m   1265\u001b[0m                 \u001b[0mself\u001b[0m\u001b[0;34m.\u001b[0m\u001b[0m_retina_shape\u001b[0m\u001b[0;34m(\u001b[0m\u001b[0;34m)\u001b[0m\u001b[0;34m\u001b[0m\u001b[0;34m\u001b[0m\u001b[0m\n",
            "\u001b[0;32m/usr/local/lib/python3.10/dist-packages/IPython/core/display.py\u001b[0m in \u001b[0;36mreload\u001b[0;34m(self)\u001b[0m\n\u001b[1;32m    660\u001b[0m         \u001b[0;34m\"\"\"Reload the raw data from file or URL.\"\"\"\u001b[0m\u001b[0;34m\u001b[0m\u001b[0;34m\u001b[0m\u001b[0m\n\u001b[1;32m    661\u001b[0m         \u001b[0;32mif\u001b[0m \u001b[0mself\u001b[0m\u001b[0;34m.\u001b[0m\u001b[0mfilename\u001b[0m \u001b[0;32mis\u001b[0m \u001b[0;32mnot\u001b[0m \u001b[0;32mNone\u001b[0m\u001b[0;34m:\u001b[0m\u001b[0;34m\u001b[0m\u001b[0;34m\u001b[0m\u001b[0m\n\u001b[0;32m--> 662\u001b[0;31m             \u001b[0;32mwith\u001b[0m \u001b[0mopen\u001b[0m\u001b[0;34m(\u001b[0m\u001b[0mself\u001b[0m\u001b[0;34m.\u001b[0m\u001b[0mfilename\u001b[0m\u001b[0;34m,\u001b[0m \u001b[0mself\u001b[0m\u001b[0;34m.\u001b[0m\u001b[0m_read_flags\u001b[0m\u001b[0;34m)\u001b[0m \u001b[0;32mas\u001b[0m \u001b[0mf\u001b[0m\u001b[0;34m:\u001b[0m\u001b[0;34m\u001b[0m\u001b[0;34m\u001b[0m\u001b[0m\n\u001b[0m\u001b[1;32m    663\u001b[0m                 \u001b[0mself\u001b[0m\u001b[0;34m.\u001b[0m\u001b[0mdata\u001b[0m \u001b[0;34m=\u001b[0m \u001b[0mf\u001b[0m\u001b[0;34m.\u001b[0m\u001b[0mread\u001b[0m\u001b[0;34m(\u001b[0m\u001b[0;34m)\u001b[0m\u001b[0;34m\u001b[0m\u001b[0;34m\u001b[0m\u001b[0m\n\u001b[1;32m    664\u001b[0m         \u001b[0;32melif\u001b[0m \u001b[0mself\u001b[0m\u001b[0;34m.\u001b[0m\u001b[0murl\u001b[0m \u001b[0;32mis\u001b[0m \u001b[0;32mnot\u001b[0m \u001b[0;32mNone\u001b[0m\u001b[0;34m:\u001b[0m\u001b[0;34m\u001b[0m\u001b[0;34m\u001b[0m\u001b[0m\n",
            "\u001b[0;31mFileNotFoundError\u001b[0m: [Errno 2] No such file or directory: '/content/runs/detect/train/confusion_matrix.png'"
          ]
        }
      ],
      "source": [
        "%cd {HOME}\n",
        "Image(filename=f'{HOME}/runs/detect/train/confusion_matrix.png', width=900)"
      ]
    },
    {
      "cell_type": "markdown",
      "metadata": {
        "id": "PZT7Yj__UPQl"
      },
      "source": [
        "#**Training and Validation Loss**"
      ]
    },
    {
      "cell_type": "code",
      "execution_count": null,
      "metadata": {
        "id": "guhGMMJxUPak"
      },
      "outputs": [],
      "source": [
        "%cd {HOME}\n",
        "Image(filename=f'{HOME}/runs/detect/train/results.png', width=600)"
      ]
    },
    {
      "cell_type": "code",
      "execution_count": null,
      "metadata": {
        "id": "T1QPiDrRUaFt"
      },
      "outputs": [],
      "source": [
        "%cd {HOME}\n",
        "Image(filename=f'{HOME}/runs/detect/train/val_batch0_pred.jpg', width=600)"
      ]
    },
    {
      "cell_type": "markdown",
      "metadata": {
        "id": "iIzpjss8p242"
      },
      "source": [
        "#**Validate Custom Model**"
      ]
    },
    {
      "cell_type": "code",
      "execution_count": 19,
      "metadata": {
        "id": "ksNb0J6akcKT"
      },
      "outputs": [
        {
          "name": "stdout",
          "output_type": "stream",
          "text": [
            "c:\\Users\\Saim\\Documents\\GitHub\\Sign-Language-Detection\n"
          ]
        },
        {
          "name": "stderr",
          "output_type": "stream",
          "text": [
            "Traceback (most recent call last):\n",
            "  File \"<frozen runpy>\", line 198, in _run_module_as_main\n",
            "  File \"<frozen runpy>\", line 88, in _run_code\n",
            "  File \"c:\\Users\\Saim\\AppData\\Roaming\\Python\\Python311\\Scripts\\yolo.exe\\__main__.py\", line 7, in <module>\n",
            "  File \"C:\\Users\\Saim\\AppData\\Roaming\\Python\\Python311\\site-packages\\ultralytics\\cfg\\__init__.py\", line 423, in entrypoint\n",
            "    model = YOLO(model, task=task)\n",
            "            ^^^^^^^^^^^^^^^^^^^^^^\n",
            "  File \"C:\\Users\\Saim\\AppData\\Roaming\\Python\\Python311\\site-packages\\ultralytics\\engine\\model.py\", line 94, in __init__\n",
            "    self._load(model, task)\n",
            "  File \"C:\\Users\\Saim\\AppData\\Roaming\\Python\\Python311\\site-packages\\ultralytics\\engine\\model.py\", line 146, in _load\n",
            "    self.model, self.ckpt = attempt_load_one_weight(weights)\n",
            "                            ^^^^^^^^^^^^^^^^^^^^^^^^^^^^^^^^\n",
            "  File \"C:\\Users\\Saim\\AppData\\Roaming\\Python\\Python311\\site-packages\\ultralytics\\nn\\tasks.py\", line 628, in attempt_load_one_weight\n",
            "    ckpt, weight = torch_safe_load(weight)  # load ckpt\n",
            "                   ^^^^^^^^^^^^^^^^^^^^^^^\n",
            "  File \"C:\\Users\\Saim\\AppData\\Roaming\\Python\\Python311\\site-packages\\ultralytics\\nn\\tasks.py\", line 567, in torch_safe_load\n",
            "    return torch.load(file, map_location='cpu'), file  # load\n",
            "           ^^^^^^^^^^^^^^^^^^^^^^^^^^^^^^^^^^^^\n",
            "  File \"C:\\Users\\Saim\\AppData\\Roaming\\Python\\Python311\\site-packages\\torch\\serialization.py\", line 986, in load\n",
            "    with _open_file_like(f, 'rb') as opened_file:\n",
            "         ^^^^^^^^^^^^^^^^^^^^^^^^\n",
            "  File \"C:\\Users\\Saim\\AppData\\Roaming\\Python\\Python311\\site-packages\\torch\\serialization.py\", line 435, in _open_file_like\n",
            "    return _open_file(name_or_buffer, mode)\n",
            "           ^^^^^^^^^^^^^^^^^^^^^^^^^^^^^^^^\n",
            "  File \"C:\\Users\\Saim\\AppData\\Roaming\\Python\\Python311\\site-packages\\torch\\serialization.py\", line 416, in __init__\n",
            "    super().__init__(open(name, mode))\n",
            "                     ^^^^^^^^^^^^^^^^\n",
            "FileNotFoundError: [Errno 2] No such file or directory: '{HOME}\\\\runs\\\\best.pt'\n"
          ]
        }
      ],
      "source": [
        "%cd {HOME}\n",
        "\n",
        "!yolo task=detect mode=val model={HOME}/runs/best.pt data={dataset.location}/data.yaml"
      ]
    },
    {
      "cell_type": "markdown",
      "metadata": {
        "id": "lNwT90FUquDP"
      },
      "source": [
        "#**Inference with Custom Model**"
      ]
    },
    {
      "cell_type": "code",
      "execution_count": null,
      "metadata": {
        "id": "hHh4joWOqeIg"
      },
      "outputs": [],
      "source": [
        "%cd {HOME}\n",
        "!yolo task=detect mode=predict model={HOME}/runs/best.pt conf=0.25 source={dataset.location}/test/images"
      ]
    },
    {
      "cell_type": "code",
      "execution_count": null,
      "metadata": {
        "id": "HBeWcTQiq7_k"
      },
      "outputs": [],
      "source": [
        "for image_path in glob.glob(f'{HOME}/runs/detect/predict/*.jpg')[:3]:\n",
        "      display(Image(filename=image_path, width=600))\n",
        "      print(\"\\n\")"
      ]
    },
    {
      "cell_type": "markdown",
      "metadata": {
        "id": "Fq2qoyOQtZOH"
      },
      "source": [
        "#**Testing on a Demo Video**"
      ]
    },
    {
      "cell_type": "code",
      "execution_count": null,
      "metadata": {
        "id": "MwvKhrGlrLc4"
      },
      "outputs": [],
      "source": [
        "%cd {HOME}\n",
        "!yolo task=detect mode=predict model={HOME}/runs/best.pt conf=0.25 source='/content/demovideo/testvideo1.mp4'"
      ]
    },
    {
      "cell_type": "markdown",
      "metadata": {
        "id": "-nzzls6Mwo8U"
      },
      "source": [
        "#**Display the Demo Video**"
      ]
    },
    {
      "cell_type": "code",
      "execution_count": null,
      "metadata": {
        "id": "x8vsM8ZztfOG"
      },
      "outputs": [],
      "source": [
        "!rm \"/content/result_compressed.mp4\""
      ]
    },
    {
      "cell_type": "code",
      "execution_count": null,
      "metadata": {
        "id": "Ep7iJPcKwuCx"
      },
      "outputs": [],
      "source": [
        "from IPython.display import HTML\n",
        "from base64 import b64encode\n",
        "import os\n",
        "\n",
        "# Input video path\n",
        "save_path = '/content/runs/detect/predict2/testvideo1.mp4'\n",
        "\n",
        "# Compressed video path\n",
        "compressed_path = \"/content/result_compressed.mp4\"\n",
        "\n",
        "os.system(f\"ffmpeg -i {save_path} -vcodec libx264 {compressed_path}\")\n",
        "\n",
        "# Show video\n",
        "mp4 = open(compressed_path,'rb').read()\n",
        "data_url = \"data:video/mp4;base64,\" + b64encode(mp4).decode()\n",
        "HTML(\"\"\"\n",
        "<video width=400 controls>\n",
        "      <source src=\"%s\" type=\"video/mp4\">\n",
        "</video>\n",
        "\"\"\" % data_url)"
      ]
    },
    {
      "cell_type": "code",
      "execution_count": null,
      "metadata": {
        "id": "9SO2P2QLwyP4"
      },
      "outputs": [],
      "source": []
    }
  ],
  "metadata": {
    "accelerator": "GPU",
    "colab": {
      "gpuType": "T4",
      "provenance": []
    },
    "kernelspec": {
      "display_name": "Python 3",
      "name": "python3"
    },
    "language_info": {
      "codemirror_mode": {
        "name": "ipython",
        "version": 3
      },
      "file_extension": ".py",
      "mimetype": "text/x-python",
      "name": "python",
      "nbconvert_exporter": "python",
      "pygments_lexer": "ipython3",
      "version": "3.11.6"
    }
  },
  "nbformat": 4,
  "nbformat_minor": 0
}
