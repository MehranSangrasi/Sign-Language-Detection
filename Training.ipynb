{
 "cells": [
  {
   "cell_type": "markdown",
   "metadata": {},
   "source": [
    "# American Sign Language Detection - Training"
   ]
  },
  {
   "cell_type": "code",
   "execution_count": 4,
   "metadata": {},
   "outputs": [],
   "source": [
    "import numpy as np\n",
    "import pandas as pd\n",
    "import matplotlib.pyplot as plt\n",
    "import tensorflow as tf\n",
    "from tensorflow.keras.models import Sequential\n",
    "from tensorflow.keras.layers import Conv2D, MaxPooling2D, Flatten, Dense\n",
    "import os\n"
   ]
  },
  {
   "cell_type": "markdown",
   "metadata": {},
   "source": [
    "Reading the data"
   ]
  },
  {
   "cell_type": "code",
   "execution_count": 5,
   "metadata": {},
   "outputs": [
    {
     "data": {
      "text/html": [
       "<div>\n",
       "<style scoped>\n",
       "    .dataframe tbody tr th:only-of-type {\n",
       "        vertical-align: middle;\n",
       "    }\n",
       "\n",
       "    .dataframe tbody tr th {\n",
       "        vertical-align: top;\n",
       "    }\n",
       "\n",
       "    .dataframe thead th {\n",
       "        text-align: right;\n",
       "    }\n",
       "</style>\n",
       "<table border=\"1\" class=\"dataframe\">\n",
       "  <thead>\n",
       "    <tr style=\"text-align: right;\">\n",
       "      <th></th>\n",
       "      <th>image</th>\n",
       "      <th>label</th>\n",
       "    </tr>\n",
       "  </thead>\n",
       "  <tbody>\n",
       "    <tr>\n",
       "      <th>0</th>\n",
       "      <td>asl_dataset\\0\\hand1_0_bot_seg_1_cropped.jpeg</td>\n",
       "      <td>0</td>\n",
       "    </tr>\n",
       "    <tr>\n",
       "      <th>1</th>\n",
       "      <td>asl_dataset\\0\\hand1_0_bot_seg_2_cropped.jpeg</td>\n",
       "      <td>0</td>\n",
       "    </tr>\n",
       "    <tr>\n",
       "      <th>2</th>\n",
       "      <td>asl_dataset\\0\\hand1_0_bot_seg_3_cropped.jpeg</td>\n",
       "      <td>0</td>\n",
       "    </tr>\n",
       "    <tr>\n",
       "      <th>3</th>\n",
       "      <td>asl_dataset\\0\\hand1_0_bot_seg_4_cropped.jpeg</td>\n",
       "      <td>0</td>\n",
       "    </tr>\n",
       "    <tr>\n",
       "      <th>4</th>\n",
       "      <td>asl_dataset\\0\\hand1_0_bot_seg_5_cropped.jpeg</td>\n",
       "      <td>0</td>\n",
       "    </tr>\n",
       "    <tr>\n",
       "      <th>...</th>\n",
       "      <td>...</td>\n",
       "      <td>...</td>\n",
       "    </tr>\n",
       "    <tr>\n",
       "      <th>2510</th>\n",
       "      <td>asl_dataset\\z\\hand5_z_dif_seg_1_cropped.jpeg</td>\n",
       "      <td>z</td>\n",
       "    </tr>\n",
       "    <tr>\n",
       "      <th>2511</th>\n",
       "      <td>asl_dataset\\z\\hand5_z_dif_seg_2_cropped.jpeg</td>\n",
       "      <td>z</td>\n",
       "    </tr>\n",
       "    <tr>\n",
       "      <th>2512</th>\n",
       "      <td>asl_dataset\\z\\hand5_z_dif_seg_3_cropped.jpeg</td>\n",
       "      <td>z</td>\n",
       "    </tr>\n",
       "    <tr>\n",
       "      <th>2513</th>\n",
       "      <td>asl_dataset\\z\\hand5_z_dif_seg_4_cropped.jpeg</td>\n",
       "      <td>z</td>\n",
       "    </tr>\n",
       "    <tr>\n",
       "      <th>2514</th>\n",
       "      <td>asl_dataset\\z\\hand5_z_dif_seg_5_cropped.jpeg</td>\n",
       "      <td>z</td>\n",
       "    </tr>\n",
       "  </tbody>\n",
       "</table>\n",
       "<p>2515 rows × 2 columns</p>\n",
       "</div>"
      ],
      "text/plain": [
       "                                             image label\n",
       "0     asl_dataset\\0\\hand1_0_bot_seg_1_cropped.jpeg     0\n",
       "1     asl_dataset\\0\\hand1_0_bot_seg_2_cropped.jpeg     0\n",
       "2     asl_dataset\\0\\hand1_0_bot_seg_3_cropped.jpeg     0\n",
       "3     asl_dataset\\0\\hand1_0_bot_seg_4_cropped.jpeg     0\n",
       "4     asl_dataset\\0\\hand1_0_bot_seg_5_cropped.jpeg     0\n",
       "...                                            ...   ...\n",
       "2510  asl_dataset\\z\\hand5_z_dif_seg_1_cropped.jpeg     z\n",
       "2511  asl_dataset\\z\\hand5_z_dif_seg_2_cropped.jpeg     z\n",
       "2512  asl_dataset\\z\\hand5_z_dif_seg_3_cropped.jpeg     z\n",
       "2513  asl_dataset\\z\\hand5_z_dif_seg_4_cropped.jpeg     z\n",
       "2514  asl_dataset\\z\\hand5_z_dif_seg_5_cropped.jpeg     z\n",
       "\n",
       "[2515 rows x 2 columns]"
      ]
     },
     "execution_count": 5,
     "metadata": {},
     "output_type": "execute_result"
    }
   ],
   "source": [
    "images = []\n",
    "labels = []\n",
    "for subfolder in os.listdir('asl_dataset'):\n",
    "    subfolder_path = os.path.join('asl_dataset', subfolder)\n",
    "    if not os.path.isdir(subfolder_path) or subfolder=='asl_dataset':\n",
    "        continue\n",
    "    for image_filename in os.listdir(subfolder_path):\n",
    "        image_path = os.path.join(subfolder_path, image_filename)\n",
    "        images.append(image_path)\n",
    "        labels.append(subfolder)\n",
    "df = pd.DataFrame({'image': images, 'label': labels})\n",
    "df"
   ]
  },
  {
   "cell_type": "code",
   "execution_count": null,
   "metadata": {},
   "outputs": [],
   "source": []
  }
 ],
 "metadata": {
  "kernelspec": {
   "display_name": "Python 3",
   "language": "python",
   "name": "python3"
  },
  "language_info": {
   "codemirror_mode": {
    "name": "ipython",
    "version": 3
   },
   "file_extension": ".py",
   "mimetype": "text/x-python",
   "name": "python",
   "nbconvert_exporter": "python",
   "pygments_lexer": "ipython3",
   "version": "3.11.1"
  }
 },
 "nbformat": 4,
 "nbformat_minor": 2
}
